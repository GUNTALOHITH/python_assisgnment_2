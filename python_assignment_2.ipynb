{
 "cells": [
  {
   "cell_type": "code",
   "execution_count": 3,
   "id": "ccb5f49c-916f-4373-ba1c-3323210eb1ac",
   "metadata": {},
   "outputs": [
    {
     "data": {
      "text/plain": [
       "'sllikwp'"
      ]
     },
     "execution_count": 3,
     "metadata": {},
     "output_type": "execute_result"
    }
   ],
   "source": [
    "q# 1. Write a program to reverse a string.\n",
    "\n",
    "a = \"pwkills\"\n",
    "b = a[::-1]\n",
    "b\n"
   ]
  },
  {
   "cell_type": "code",
   "execution_count": 4,
   "id": "7f22f6e7-26f0-4665-815b-927066e33196",
   "metadata": {},
   "outputs": [
    {
     "name": "stdin",
     "output_type": "stream",
     "text": [
      "enter a string madam\n"
     ]
    },
    {
     "name": "stdout",
     "output_type": "stream",
     "text": [
      "The given string is a palindrome\n"
     ]
    }
   ],
   "source": [
    "#2. Check if a string is a palindrome.\n",
    "a = input(\"enter a string\")\n",
    "b = a[::-1]\n",
    "if a == b : \n",
    "    print(\"The given string is a palindrome\")\n",
    "else:\n",
    "    print(\"The given string is not a palindrome\")"
   ]
  },
  {
   "cell_type": "code",
   "execution_count": 6,
   "id": "908eaa3e-ce9a-484f-8bb5-03fb6baf8648",
   "metadata": {},
   "outputs": [
    {
     "data": {
      "text/plain": [
       "'PWSKILLS'"
      ]
     },
     "execution_count": 6,
     "metadata": {},
     "output_type": "execute_result"
    }
   ],
   "source": [
    "# 3. Convert a string to uppercase.\n",
    "a = \"pwskills\"\n",
    "a.upper()"
   ]
  },
  {
   "cell_type": "code",
   "execution_count": 7,
   "id": "156271ed-9d99-4afb-9ffd-828284133988",
   "metadata": {},
   "outputs": [
    {
     "data": {
      "text/plain": [
       "'datasciencemasterpro'"
      ]
     },
     "execution_count": 7,
     "metadata": {},
     "output_type": "execute_result"
    }
   ],
   "source": [
    "# 4. Convert a string to lowercase.\n",
    "a = \"DataScienceMasterPro\"\n",
    "a.lower()"
   ]
  },
  {
   "cell_type": "code",
   "execution_count": 9,
   "id": "e85d5b5e-bd37-4f5a-8812-d51f54acf64f",
   "metadata": {},
   "outputs": [
    {
     "name": "stdin",
     "output_type": "stream",
     "text": [
      "Enter the string aeiou\n"
     ]
    },
    {
     "name": "stdout",
     "output_type": "stream",
     "text": [
      "The number of vowels in a string are: 5\n"
     ]
    }
   ],
   "source": [
    "# 5. Count the number of vowels in a string.\n",
    "s = input(\"Enter the string\")\n",
    "vowels = \"AEIOUaeiou\"\n",
    "vowel_count = 0\n",
    "for char in s:\n",
    "    if char in vowels:\n",
    "        vowel_count += 1\n",
    "        \n",
    "print(\"The number of vowels in a string are:\", vowel_count)    "
   ]
  },
  {
   "cell_type": "code",
   "execution_count": 11,
   "id": "6f19ea7a-3023-4cef-915c-bb4861bd5012",
   "metadata": {},
   "outputs": [
    {
     "name": "stdin",
     "output_type": "stream",
     "text": [
      "Enter a string : pwskills\n"
     ]
    },
    {
     "name": "stdout",
     "output_type": "stream",
     "text": [
      "The number a consonants in a string are : 7\n"
     ]
    }
   ],
   "source": [
    "# 6. Count the number of consonants in a string.\n",
    "s = input(\"Enter a string :\")\n",
    "vowels = \"AEIOUaeiou\"\n",
    "cons_count = 0\n",
    "for char in s:\n",
    "    if char.isalpha and char not in vowels:\n",
    "        cons_count += 1\n",
    "        \n",
    "print(\"The number a consonants in a string are :\" , cons_count)        "
   ]
  },
  {
   "cell_type": "code",
   "execution_count": 12,
   "id": "7c17716e-ad72-433d-bf78-aa5eacac228b",
   "metadata": {},
   "outputs": [
    {
     "name": "stdin",
     "output_type": "stream",
     "text": [
      "Enter the string i am a student\n"
     ]
    },
    {
     "data": {
      "text/plain": [
       "'iamastudent'"
      ]
     },
     "execution_count": 12,
     "metadata": {},
     "output_type": "execute_result"
    }
   ],
   "source": [
    "# 7. Remove all whitespaces from a string.\n",
    "s = input(\"Enter the string:\")\n",
    "s.replace(\" \",\"\")"
   ]
  },
  {
   "cell_type": "code",
   "execution_count": 14,
   "id": "2b16c850-ffbe-402a-bab1-a6dc7d03f365",
   "metadata": {},
   "outputs": [
    {
     "name": "stdin",
     "output_type": "stream",
     "text": [
      "Enter the string : I am a student\n"
     ]
    },
    {
     "name": "stdout",
     "output_type": "stream",
     "text": [
      "The length of string is 14\n"
     ]
    }
   ],
   "source": [
    "# 8. Find the length of a string without using the `len()` function.\n",
    "s = input(\"Enter the string :\")\n",
    "str_length = 0\n",
    "for char in s:\n",
    "    str_length += 1\n",
    "print(\"The length of string is\" , str_length)    "
   ]
  },
  {
   "cell_type": "code",
   "execution_count": 27,
   "id": "b9dbdb5e-a8e6-4ad5-a59d-f4d0c450e736",
   "metadata": {},
   "outputs": [
    {
     "name": "stdin",
     "output_type": "stream",
     "text": [
      "Enter a string: i am a pw student\n",
      "enter a specific word: pw\n"
     ]
    },
    {
     "name": "stdout",
     "output_type": "stream",
     "text": [
      "The string contains the specific word \n"
     ]
    }
   ],
   "source": [
    "# 9. Check if a string contains a specific word.\n",
    "string = input(\"Enter a string:\")\n",
    "specific_word = input(\"enter a specific word:\")\n",
    "if specific_word in string:\n",
    "    print(\"The string contains the specific word \")\n",
    "else:\n",
    "    print(\"the string doesn't contain any specific word\")\n",
    "    \n",
    " "
   ]
  },
  {
   "cell_type": "code",
   "execution_count": 28,
   "id": "075d26b1-fffa-498c-9ed9-9d02efe21115",
   "metadata": {},
   "outputs": [
    {
     "data": {
      "text/plain": [
       "'i am from webdevelopment batch'"
      ]
     },
     "execution_count": 28,
     "metadata": {},
     "output_type": "execute_result"
    }
   ],
   "source": [
    "# 10. Replace a word in a string with another word.\n",
    "s = \"i am from datascience batch\"\n",
    "s.replace(\"datascience\" , \"webdevelopment\")"
   ]
  },
  {
   "cell_type": "code",
   "execution_count": 38,
   "id": "81e64d69-e08e-425d-87e3-eb770cf98663",
   "metadata": {},
   "outputs": [
    {
     "name": "stdout",
     "output_type": "stream",
     "text": [
      "The word swim appears 2 times\n"
     ]
    }
   ],
   "source": [
    "# 11. Count the occurrences of a word in a string.\n",
    "s = \"He swim with a swim suit\"\n",
    "word = \"swim\"\n",
    "count = s.count(word)\n",
    "print(\"The word\" , word , \"appears\" , count , \"times\")"
   ]
  },
  {
   "cell_type": "code",
   "execution_count": 4,
   "id": "b66b2909-3b46-4f10-b2be-a5bd6db623f2",
   "metadata": {},
   "outputs": [
    {
     "name": "stdout",
     "output_type": "stream",
     "text": [
      "The first occurance of word is at 3\n"
     ]
    }
   ],
   "source": [
    "# 12. Find the first occurrence of a word in a string.\n",
    "s = \"he swim with a swim suit\"\n",
    "a = s.find(\"swim\")\n",
    "print(\"The first occurance of word is at\", a)"
   ]
  },
  {
   "cell_type": "code",
   "execution_count": 5,
   "id": "a87b36b2-0448-4bcd-9c64-a042629a30a7",
   "metadata": {},
   "outputs": [
    {
     "name": "stdout",
     "output_type": "stream",
     "text": [
      "The last occurance of word is at 15\n"
     ]
    }
   ],
   "source": [
    "# 13. Find the last occurrence of a word in a string.\n",
    "s = \"He swim with a swim suit\"\n",
    "a = s.rfind(\"swim\")\n",
    "print(\"The last occurance of word is at\" , a)"
   ]
  },
  {
   "cell_type": "code",
   "execution_count": 7,
   "id": "096de910-191f-418e-a7e1-5192a8283d22",
   "metadata": {},
   "outputs": [
    {
     "name": "stdin",
     "output_type": "stream",
     "text": [
      "Enter the string I am learning python from pw\n"
     ]
    },
    {
     "data": {
      "text/plain": [
       "['I', 'am', 'learning', 'python', 'from', 'pw']"
      ]
     },
     "execution_count": 7,
     "metadata": {},
     "output_type": "execute_result"
    }
   ],
   "source": [
    "# 14. Split a string into a list of words.\n",
    "a = input(\"Enter the string\")\n",
    "b = a.split(\" \")\n",
    "b"
   ]
  },
  {
   "cell_type": "code",
   "execution_count": 8,
   "id": "9833c533-a214-4c7b-9ebd-027e05080877",
   "metadata": {},
   "outputs": [
    {
     "data": {
      "text/plain": [
       "'I am learning datascience'"
      ]
     },
     "execution_count": 8,
     "metadata": {},
     "output_type": "execute_result"
    }
   ],
   "source": [
    "# 15. Join a list of words into a string.\n",
    "l = [\"I\" , \"am\" , \"learning\" , \"datascience\"]\n",
    "b = \" \".join(l)\n",
    "b\n",
    "\n"
   ]
  },
  {
   "cell_type": "code",
   "execution_count": 11,
   "id": "a165103e-58a2-432a-923f-f957f140742f",
   "metadata": {},
   "outputs": [
    {
     "name": "stdin",
     "output_type": "stream",
     "text": [
      "Enter the string: I am a pw student\n"
     ]
    },
    {
     "data": {
      "text/plain": [
       "'I_am_a_pw_student'"
      ]
     },
     "execution_count": 11,
     "metadata": {},
     "output_type": "execute_result"
    }
   ],
   "source": [
    "# 16. Convert a string where words are separated by spaces to one where words\n",
    "# are separated by underscores.\n",
    "s = input(\"Enter the string:\")\n",
    "b = s.replace(\" \",\"_\")\n",
    "b"
   ]
  },
  {
   "cell_type": "code",
   "execution_count": 14,
   "id": "bd035904-797b-4cf1-a3e7-4aa1d20b35bf",
   "metadata": {},
   "outputs": [
    {
     "name": "stdin",
     "output_type": "stream",
     "text": [
      "Enter the string : once upon a time there lived a ghost\n",
      "Entere the specific word or phrase once upon a\n"
     ]
    },
    {
     "name": "stdout",
     "output_type": "stream",
     "text": [
      "The entered string starts with once upon a\n"
     ]
    }
   ],
   "source": [
    "# 17. Check if a string starts with a specific word or phrase.\n",
    "s = input(\"Enter the string :\")\n",
    "specific_word = input(\"Entere the specific word or phrase\")\n",
    "if s.startswith(specific_word):\n",
    "    print(\"The entered string starts with\" ,specific_word)\n",
    "else:\n",
    "    print(\"The entered string doesn't starts with\", specific_word)\n"
   ]
  },
  {
   "cell_type": "code",
   "execution_count": 15,
   "id": "eb6f295f-99b0-4595-80e2-aee80de7d203",
   "metadata": {},
   "outputs": [
    {
     "name": "stdin",
     "output_type": "stream",
     "text": [
      "Enter the string don't quit do it\n",
      "Enter the specific word or phrase do it\n"
     ]
    },
    {
     "name": "stdout",
     "output_type": "stream",
     "text": [
      "The entered string ends with  do it\n"
     ]
    }
   ],
   "source": [
    "# 18. Check if a string ends with a specific word or phrase.\n",
    "s = input(\"Enter the string\")\n",
    "specific_word = input(\"Enter the specific word or phrase\")\n",
    "if s.endswith(specific_word):\n",
    "    print(\"The entered string ends with \" , specific_word)\n",
    "else:\n",
    "    print(\"The entered string doesn't end with\" , specific_word)"
   ]
  },
  {
   "cell_type": "code",
   "execution_count": 16,
   "id": "6c391b39-3fbb-40eb-bf77-d66084d226d1",
   "metadata": {},
   "outputs": [
    {
     "name": "stdin",
     "output_type": "stream",
     "text": [
      "Enter the string hello world\n"
     ]
    },
    {
     "data": {
      "text/plain": [
       "'Hello World'"
      ]
     },
     "execution_count": 16,
     "metadata": {},
     "output_type": "execute_result"
    }
   ],
   "source": [
    "# 19. Convert a string to title case (e.g., \"hello world\" to \"Hello World\").\n",
    "s = input(\"Enter the string\")\n",
    "c = s.title()\n",
    "c"
   ]
  },
  {
   "cell_type": "code",
   "execution_count": 18,
   "id": "7c56c050-42db-43fb-af5a-1522151d738e",
   "metadata": {},
   "outputs": [
    {
     "name": "stdin",
     "output_type": "stream",
     "text": [
      "Enter the string: Never let the fear of striking out keep you from playing the game\n"
     ]
    },
    {
     "name": "stdout",
     "output_type": "stream",
     "text": [
      "The longest word in the string : striking\n"
     ]
    }
   ],
   "source": [
    "# 20. Find the longest word in a string.\n",
    "s = input(\"Enter the string:\")\n",
    "word_list = s.split()\n",
    "longest_word = max(word_list , key = len)\n",
    "print(\"The longest word in the string :\", longest_word)\n"
   ]
  },
  {
   "cell_type": "code",
   "execution_count": 19,
   "id": "765884d9-cf2f-44f1-8aff-da6b2eba40db",
   "metadata": {},
   "outputs": [
    {
     "name": "stdin",
     "output_type": "stream",
     "text": [
      "Enter the string: Money and success don’t change people; they merely amplify what is already there\n"
     ]
    },
    {
     "name": "stdout",
     "output_type": "stream",
     "text": [
      "The shortest word in the string: is\n"
     ]
    }
   ],
   "source": [
    "# 21. Find the shortest word in a string.\n",
    "s = input(\"Enter the string:\")\n",
    "word_list =s.split()\n",
    "shortest_word = min(word_list , key = len)\n",
    "print(\"The shortest word in the string:\" , shortest_word)"
   ]
  },
  {
   "cell_type": "code",
   "execution_count": 23,
   "id": "67f08f86-600a-4753-ab2f-8932f04f05eb",
   "metadata": {},
   "outputs": [
    {
     "name": "stdin",
     "output_type": "stream",
     "text": [
      "Enter the string: This is a sample sentence\n"
     ]
    },
    {
     "name": "stdout",
     "output_type": "stream",
     "text": [
      "The reverse order of the string : sentence sample a is This\n"
     ]
    }
   ],
   "source": [
    "# 22. Reverse the order of words in a string.\n",
    "s = input(\"Enter the string:\")\n",
    "b = s.split()[::-1]\n",
    "rev_str = \" \".join(b)\n",
    "print(\"The reverse order of the string :\", rev_str)\n"
   ]
  },
  {
   "cell_type": "code",
   "execution_count": 24,
   "id": "bc25ee18-0699-4d2f-83d0-341ec4c063d0",
   "metadata": {},
   "outputs": [
    {
     "name": "stdin",
     "output_type": "stream",
     "text": [
      "Enter the string: guntalohith01\n"
     ]
    },
    {
     "name": "stdout",
     "output_type": "stream",
     "text": [
      "The string is alphanumeric\n"
     ]
    }
   ],
   "source": [
    "# 23.Check if a string is alphanumeric.\n",
    "s = input(\"Enter the string:\")\n",
    "b = s.isalnum()\n",
    "if b == 1 :\n",
    "    print(\"The string is alphanumeric\")\n",
    "else:\n",
    "    print(\"The string is not alphanumeric\")\n",
    "    "
   ]
  },
  {
   "cell_type": "code",
   "execution_count": null,
   "id": "d08c952b-c0ab-43fa-8b01-01579fbd62f7",
   "metadata": {},
   "outputs": [
    {
     "name": "stdin",
     "output_type": "stream",
     "text": [
      "Enter the string lohith01\n"
     ]
    },
    {
     "name": "stdout",
     "output_type": "stream",
     "text": [
      "the extracted_digits :  01\n"
     ]
    }
   ],
   "source": [
    "# 24. Extract all digits from a string.\n",
    "s = input(\"Enter the string\")\n",
    "extracted_digits = \" \"\n",
    "\n",
    "for char in s:\n",
    "    if char.isdigit():\n",
    "        extracted_digits += char\n",
    "print(\"the extracted_digits :\" ,extracted_digits)"
   ]
  },
  {
   "cell_type": "code",
   "execution_count": 27,
   "id": "e5601da9-52d1-4c4e-8234-a57fa09ed48f",
   "metadata": {},
   "outputs": [
    {
     "name": "stdin",
     "output_type": "stream",
     "text": [
      "Enter the string lohith01\n"
     ]
    },
    {
     "name": "stdout",
     "output_type": "stream",
     "text": [
      "the extracted_digits :  lohith\n"
     ]
    }
   ],
   "source": [
    "# 25. Extract all alphabets from a string.\n",
    "s = input(\"Enter the string\")\n",
    "extracted_alphabets = \" \"\n",
    "\n",
    "for char in s:\n",
    "    if char.isalpha():\n",
    "        extracted_alphabets += char\n",
    "print(\"the extracted_digits :\" ,extracted_alphabets)"
   ]
  },
  {
   "cell_type": "code",
   "execution_count": 31,
   "id": "39a6f32a-9e35-48f5-82d0-c8d93e4c9897",
   "metadata": {},
   "outputs": [
    {
     "name": "stdin",
     "output_type": "stream",
     "text": [
      "Enter the string: My name is Lohith\n"
     ]
    },
    {
     "name": "stdout",
     "output_type": "stream",
     "text": [
      "The upper case letters in a string : 2\n"
     ]
    }
   ],
   "source": [
    "# 26. Count the number of uppercase letters in a string.\n",
    "s = input(\"Enter the string:\")\n",
    "upper_count = 0\n",
    "for char in s:\n",
    "    if char.isupper():\n",
    "        upper_count += 1\n",
    "print(\"The upper case letters in a string :\" , upper_count)        \n"
   ]
  },
  {
   "cell_type": "code",
   "execution_count": 1,
   "id": "81fc4a29-4ee6-4c78-8ad7-a97387537da4",
   "metadata": {},
   "outputs": [
    {
     "name": "stdin",
     "output_type": "stream",
     "text": [
      "Enter the string: My name is Lohith\n"
     ]
    },
    {
     "name": "stdout",
     "output_type": "stream",
     "text": [
      "The upper case letters in a string : 12\n"
     ]
    }
   ],
   "source": [
    "# 27. Count the number of lowercase letters in a string.\n",
    "s = input(\"Enter the string:\")\n",
    "lower_count = 0\n",
    "for char in s:\n",
    "    if char.islower():\n",
    "        lower_count += 1\n",
    "print(\"The upper case letters in a string :\" , lower_count)"
   ]
  },
  {
   "cell_type": "code",
   "execution_count": 2,
   "id": "f2d387b8-42b7-4b46-ab24-7435329fe8a6",
   "metadata": {},
   "outputs": [
    {
     "name": "stdin",
     "output_type": "stream",
     "text": [
      "Enter the string hello world\n"
     ]
    },
    {
     "name": "stdout",
     "output_type": "stream",
     "text": [
      "The swap case of the given string is : HELLO WORLD\n"
     ]
    }
   ],
   "source": [
    "# 28. Swap the case of each character in a string.\n",
    "s = input(\"Enter the string\")\n",
    "b = s.swapcase()\n",
    "print(\"The swap case of the given string is :\" , b)"
   ]
  },
  {
   "cell_type": "code",
   "execution_count": 3,
   "id": "cdf3588a-06c0-4110-aee5-c65bd11ddcc0",
   "metadata": {},
   "outputs": [
    {
     "name": "stdout",
     "output_type": "stream",
     "text": [
      "The string after removing the word 'any' : He won't be  happier there than he was her\n"
     ]
    }
   ],
   "source": [
    "# Remove a specific word from a string.\n",
    "s = \"He won't be any happier there than he was her\"\n",
    "b = s.replace(\"any\" , \"\")\n",
    "print(\"The string after removing the word 'any' :\" , b)"
   ]
  },
  {
   "cell_type": "code",
   "execution_count": 4,
   "id": "31985cb4-3468-4018-b03d-278bcbbfab7d",
   "metadata": {},
   "outputs": [
    {
     "name": "stdout",
     "output_type": "stream",
     "text": [
      "Possibly a valid email address\n"
     ]
    }
   ],
   "source": [
    "# 30. Check if a string is a valid email address.\n",
    "email_address = \"example@email.com\"\n",
    "if \"@\" in email_address and \".\" in email_address:\n",
    "    print(\"Possibly a valid email address\")\n",
    "else:\n",
    "    print(\"Not a valid email address\")\n"
   ]
  },
  {
   "cell_type": "code",
   "execution_count": 2,
   "id": "b4474e27-6ec9-4575-af4a-f7c9c63d675b",
   "metadata": {},
   "outputs": [
    {
     "name": "stdout",
     "output_type": "stream",
     "text": [
      "username :  guntalohith\n"
     ]
    }
   ],
   "source": [
    "# 31. Extract the username from an email address string.\n",
    "email_address = \"guntalohith@gmail.com\"\n",
    "user_name = email_address.split('@')[0]\n",
    "print(\"username : \" , user_name)"
   ]
  },
  {
   "cell_type": "code",
   "execution_count": 3,
   "id": "9244cbc3-cd60-4103-86ac-fae3f43f7fec",
   "metadata": {},
   "outputs": [
    {
     "name": "stdout",
     "output_type": "stream",
     "text": [
      "username :  gmail.com\n"
     ]
    }
   ],
   "source": [
    "# 32. Extract the domain name from an email address string.\n",
    "email_address = \"guntalohith@gmail.com\"\n",
    "domain_name = email_address.split('@')[1]\n",
    "print(\"username : \" , domain_name)"
   ]
  },
  {
   "cell_type": "code",
   "execution_count": 4,
   "id": "df6850f5-fc00-468c-a4ba-af1e6144eb9c",
   "metadata": {},
   "outputs": [
    {
     "name": "stdin",
     "output_type": "stream",
     "text": [
      "Enter the string  The sample    multiple line   string\n"
     ]
    },
    {
     "name": "stdout",
     "output_type": "stream",
     "text": [
      "The new string: The sample multiple line string\n"
     ]
    }
   ],
   "source": [
    "# 33. Replace multiple spaces in a string with a single space.\n",
    "s = input(\"Enter the string \")\n",
    "word = s.split()\n",
    "new_string = \" \".join(word)\n",
    "print(\"The new string:\" , new_string)"
   ]
  },
  {
   "cell_type": "code",
   "execution_count": 6,
   "id": "e452c15b-eca5-43cc-af95-d135931502c0",
   "metadata": {},
   "outputs": [
    {
     "name": "stdout",
     "output_type": "stream",
     "text": [
      "https://www.example.com is a valid URL\n"
     ]
    }
   ],
   "source": [
    "# 34. Check if a string is a valid URL.\n",
    "# Test cases\n",
    "url1 = \"https://www.example.com\"\n",
    "\n",
    "valid_schemes = [\"http://\", \"https://\", \"ftp://\"]\n",
    "is_valid_url1 = any(url1.startswith(scheme) for scheme in valid_schemes)\n",
    "\n",
    "print(f\"{url1} is a valid URL\")\n"
   ]
  },
  {
   "cell_type": "code",
   "execution_count": 7,
   "id": "bb3655ef-cb45-4b3b-9420-9bf801393714",
   "metadata": {},
   "outputs": [
    {
     "name": "stdout",
     "output_type": "stream",
     "text": [
      "Protocol: https\n"
     ]
    }
   ],
   "source": [
    "# 35. Extract the protocol (http or https) from a URL string.\n",
    "# Input URL string\n",
    "url = \"https://www.example.com/path/to/resource\"\n",
    "protocol = url.split(\"://\")[0]\n",
    "print(\"Protocol:\", protocol)\n"
   ]
  },
  {
   "cell_type": "code",
   "execution_count": 10,
   "id": "e34be439-fd5c-4b6a-abf4-7b7558bf6f44",
   "metadata": {},
   "outputs": [
    {
     "name": "stdin",
     "output_type": "stream",
     "text": [
      "Enter the string: my name is lohith\n"
     ]
    },
    {
     "name": "stdout",
     "output_type": "stream",
     "text": [
      "'m': 2\n",
      "'y': 1\n",
      "'n': 1\n",
      "'a': 1\n",
      "'e': 1\n",
      "'i': 2\n",
      "'s': 1\n",
      "'l': 1\n",
      "'o': 1\n",
      "'h': 2\n",
      "'t': 1\n"
     ]
    }
   ],
   "source": [
    "# 36. Find the frequency of each character in a string.\n",
    "s = input(\"Enter the string:\")\n",
    "char_frequency = {}\n",
    "for char in s:\n",
    "    if char.isalnum():\n",
    "        char = char.lower()\n",
    "        if char in char_frequency:\n",
    "            char_frequency[char] += 1\n",
    "        else:\n",
    "            char_frequency[char] = 1\n",
    "\n",
    "for char, count in char_frequency.items():\n",
    "    print(f\"'{char}': {count}\")\n",
    "        \n",
    "        "
   ]
  },
  {
   "cell_type": "code",
   "execution_count": 11,
   "id": "3b3d7793-472a-45f0-b398-193e0a288494",
   "metadata": {},
   "outputs": [
    {
     "name": "stdin",
     "output_type": "stream",
     "text": [
      "Enter the string hello world!\n"
     ]
    },
    {
     "name": "stdout",
     "output_type": "stream",
     "text": [
      "new string without punctuations : hello world\n"
     ]
    }
   ],
   "source": [
    "# 37. Remove all punctuation from a string.\n",
    "s = input(\"Enter the string\")\n",
    "new_string = ''.join(char for char in s if char.isalnum() or char.isspace())\n",
    "print(\"new string without punctuations :\" , new_string)"
   ]
  },
  {
   "cell_type": "code",
   "execution_count": 12,
   "id": "68772246-d95d-442a-8297-5f2a6d7fc130",
   "metadata": {},
   "outputs": [
    {
     "name": "stdin",
     "output_type": "stream",
     "text": [
      "Enter the string: 12234\n"
     ]
    },
    {
     "name": "stdout",
     "output_type": "stream",
     "text": [
      "The string contains only digits\n"
     ]
    }
   ],
   "source": [
    "# 38. Check if a string contains only digits.\n",
    "s = input(\"Enter the string:\")\n",
    "if s.isdigit:\n",
    "    print(\"The string contains only digits\")\n",
    "else:\n",
    "    print(\"The string doesnt contain only digits\")"
   ]
  },
  {
   "cell_type": "code",
   "execution_count": 13,
   "id": "a60a5b88-b245-4385-ad00-8fffcb1803a7",
   "metadata": {},
   "outputs": [
    {
     "name": "stdin",
     "output_type": "stream",
     "text": [
      "Enter the string hello world\n"
     ]
    },
    {
     "name": "stdout",
     "output_type": "stream",
     "text": [
      "The string only contains alphabets\n"
     ]
    }
   ],
   "source": [
    "# 39. Check if a string contains only alphabets.\n",
    "s = input(\"Enter the string\")\n",
    "if s.isalpha:\n",
    "    print(\"The string only contains alphabets\")\n",
    "else:\n",
    "    print(\"The string doesnt contains only alphabets\")"
   ]
  },
  {
   "cell_type": "code",
   "execution_count": 14,
   "id": "62f8a64c-20c1-4d5d-ab4d-d0de13a232ee",
   "metadata": {},
   "outputs": [
    {
     "name": "stdin",
     "output_type": "stream",
     "text": [
      "Enter the string: hello\n"
     ]
    },
    {
     "name": "stdout",
     "output_type": "stream",
     "text": [
      "['h', 'e', 'l', 'l', 'o']\n"
     ]
    }
   ],
   "source": [
    "# 40. Convert a string to a list of characters.\n",
    "s = input(\"Enter the string:\")\n",
    "b = list(s)\n",
    "print(b)"
   ]
  },
  {
   "cell_type": "code",
   "execution_count": 15,
   "id": "0b043175-a709-4f40-b32b-347cafa64992",
   "metadata": {},
   "outputs": [
    {
     "name": "stdin",
     "output_type": "stream",
     "text": [
      "Enter the string1: listen\n",
      "Enter the string2: silent\n"
     ]
    },
    {
     "name": "stdout",
     "output_type": "stream",
     "text": [
      " 'listen' and 'silent' are anagrams\n"
     ]
    }
   ],
   "source": [
    "# 41. Check if two strings are anagrams.\n",
    "str1 = input(\"Enter the string1:\")\n",
    "str2 = input(\"Enter the string2:\")\n",
    "str1 = str1.replace(\" \", \"\").lower()\n",
    "str2 = str2.replace(\" \",\"\").lower()\n",
    "are_anagrams = sorted(str1) == sorted(str2)\n",
    "\n",
    "if are_anagrams :\n",
    "    print(f\" '{str1}' and '{str2}' are anagrams\")\n",
    "else :\n",
    "    print(f\" '{str1}' and '{str2}' are not anagrams\")\n",
    "2363"
   ]
  },
  {
   "cell_type": "code",
   "execution_count": 17,
   "id": "db8be303-ec34-4468-a513-93d8432a6084",
   "metadata": {},
   "outputs": [
    {
     "name": "stdout",
     "output_type": "stream",
     "text": [
      "Original text: Hello, World!\n",
      "Encrypted text: Khoor, Zruog!\n"
     ]
    }
   ],
   "source": [
    "# 42. Encode a string using a Caesar cipher.\n",
    "def caesar_cipher_encrypt(text, shift):\n",
    "    encrypted_text = \"\"\n",
    "\n",
    "    for char in text:\n",
    "        if char.isalpha():\n",
    "            shifted_char = chr(((ord(char) - ord('A' if char.isupper() else 'a') + shift) % 26) + ord('A' if char.isupper() else 'a'))\n",
    "            encrypted_text += shifted_char\n",
    "        else:\n",
    "            encrypted_text += char\n",
    "\n",
    "    return encrypted_text\n",
    "\n",
    "\n",
    "plaintext = \"Hello, World!\"\n",
    "shift = 3\n",
    "encrypted_text = caesar_cipher_encrypt(plaintext, shift)\n",
    "print(\"Original text:\", plaintext)\n",
    "print(\"Encrypted text:\", encrypted_text)\n"
   ]
  },
  {
   "cell_type": "code",
   "execution_count": 18,
   "id": "7df3b160-ff81-41cf-9353-a8c6c3ae026c",
   "metadata": {},
   "outputs": [
    {
     "name": "stdout",
     "output_type": "stream",
     "text": [
      "Encrypted text: Khoor, Zruog!\n",
      "Decrypted text: Hello, World!\n"
     ]
    }
   ],
   "source": [
    "# 43. Decode a Caesar cipher encoded string.\n",
    "def caesar_cipher_decrypt(encrypted_text, shift):\n",
    "    decrypted_text = \"\"\n",
    "\n",
    "    for char in encrypted_text:\n",
    "        if char.isalpha():\n",
    "            shifted_char = chr(((ord(char) - ord('A' if char.isupper() else 'a') - shift) % 26) + ord('A' if char.isupper() else 'a'))\n",
    "            decrypted_text += shifted_char\n",
    "        else:\n",
    "            decrypted_text += char\n",
    "\n",
    "    return decrypted_text\n",
    "\n",
    "encrypted_text = \"Khoor, Zruog!\"\n",
    "shift = 3\n",
    "decrypted_text = caesar_cipher_decrypt(encrypted_text, shift)\n",
    "print(\"Encrypted text:\", encrypted_text)\n",
    "print(\"Decrypted text:\", decrypted_text)\n"
   ]
  },
  {
   "cell_type": "code",
   "execution_count": 19,
   "id": "2bc84fc2-c76e-48d3-8eba-5261bd37c3bc",
   "metadata": {},
   "outputs": [
    {
     "name": "stdout",
     "output_type": "stream",
     "text": [
      "The most frequent word is 'this' with a frequency of 2 times.\n"
     ]
    }
   ],
   "source": [
    "# 44. Find the most frequent word in a string.\n",
    "# Input string\n",
    "input_string = \"This is a simple example. This example is simple and easy.\"\n",
    "\n",
    "\n",
    "words = input_string.split()\n",
    "words = [word.strip('.,!?') for word in words]\n",
    "\n",
    "\n",
    "word_frequency = {}\n",
    "\n",
    "for word in words:\n",
    "    if word:\n",
    "        word = word.lower() \n",
    "        word_frequency[word] = word_frequency.get(word, 0) + 1\n",
    "\n",
    "most_frequent_word = max(word_frequency, key=word_frequency.get)\n",
    "frequency = word_frequency[most_frequent_word]\n",
    "\n",
    "print(f\"The most frequent word is '{most_frequent_word}' with a frequency of {frequency} times.\")\n"
   ]
  },
  {
   "cell_type": "code",
   "execution_count": 20,
   "id": "955aa304-c071-4564-80dc-ae3299a2ea01",
   "metadata": {},
   "outputs": [
    {
     "name": "stdout",
     "output_type": "stream",
     "text": [
      "Unique words: {'is', 'this', 'simple', 'example', 'easy', 'a', 'and'}\n"
     ]
    }
   ],
   "source": [
    "# 45. Find all unique words in a string.\n",
    "\n",
    "input_string = \"This is a simple example. This example is simple and easy.\"\n",
    "\n",
    "words = [word.strip('.,!?').lower() for word in input_string.split() if word]\n",
    "\n",
    "unique_words = set(words)\n",
    "\n",
    "print(\"Unique words:\", unique_words)\n"
   ]
  },
  {
   "cell_type": "code",
   "execution_count": 1,
   "id": "5f2bb285-a0a9-4c73-87a9-822bd6cee001",
   "metadata": {},
   "outputs": [
    {
     "name": "stdout",
     "output_type": "stream",
     "text": [
      "The word 'programming' has 3 syllables.\n"
     ]
    }
   ],
   "source": [
    "# 46. Count the number of syllables in a string.\n",
    "def count_syllables(word):\n",
    "    vowels = \"AEIOUaeiou\"\n",
    "    syllable_count = 0\n",
    "    in_syllable = False\n",
    "\n",
    "    for char in word:\n",
    "        if char in vowels:\n",
    "            if not in_syllable:\n",
    "                syllable_count += 1\n",
    "            in_syllable = True\n",
    "        else:\n",
    "            in_syllable = False\n",
    "\n",
    "    if word.endswith('e') and syllable_count > 1:\n",
    "        syllable_count -= 1\n",
    "\n",
    "    return syllable_count\n",
    "word = \"programming\"\n",
    "syllables = count_syllables(word)\n",
    "print(f\"The word '{word}' has {syllables} syllables.\")\n",
    "\n"
   ]
  },
  {
   "cell_type": "code",
   "execution_count": 3,
   "id": "000c24f5-0814-4def-9223-6af775fb9a76",
   "metadata": {},
   "outputs": [
    {
     "name": "stdout",
     "output_type": "stream",
     "text": [
      "The string contains special characters.\n"
     ]
    }
   ],
   "source": [
    "# 47. Check if a string contains any special characters.\n",
    "input_string = \"Hello, World123!\"\n",
    "\n",
    "special_characters = False\n",
    "\n",
    "for char in input_string:\n",
    "    if not char.isalnum():\n",
    "        special_characters = True\n",
    "        break\n",
    "\n",
    "if special_characters:\n",
    "    print(\"The string contains special characters.\")\n",
    "else:\n",
    "    print(\"The string does not contain special characters.\")\n"
   ]
  },
  {
   "cell_type": "code",
   "execution_count": 4,
   "id": "39749b96-b6ad-4523-aef4-c5832b0d91c3",
   "metadata": {},
   "outputs": [
    {
     "name": "stdout",
     "output_type": "stream",
     "text": [
      "This is sample sentence to demonstrate removing the nth word.\n"
     ]
    }
   ],
   "source": [
    "# 48. Remove the nth word from a string.\n",
    "def remove_nth_word(input_string, n):\n",
    "    \n",
    "    words = input_string.split()\n",
    "    \n",
    " \n",
    "    if 1 <= n <= len(words):\n",
    "       \n",
    "        words.pop(n - 1)\n",
    "        result_string = \" \".join(words)\n",
    "        return result_string\n",
    "    else:\n",
    "      \n",
    "        return input_string\n",
    "\n",
    "\n",
    "input_string = \"This is a sample sentence to demonstrate removing the nth word.\"\n",
    "n = 3  # Remove the 3rd word\n",
    "result = remove_nth_word(input_string, n)\n",
    "print(result)\n"
   ]
  },
  {
   "cell_type": "code",
   "execution_count": 5,
   "id": "f749272b-00da-4723-9042-360a25765b7a",
   "metadata": {},
   "outputs": [
    {
     "name": "stdout",
     "output_type": "stream",
     "text": [
      "This is a sample new sentence to demonstrate inserting a word.\n"
     ]
    }
   ],
   "source": [
    "# 49. Insert a word at the nth position in a string.\n",
    "def insert_word_at_nth_position(input_string, n, word_to_insert):\n",
    "    \n",
    "    words = input_string.split()\n",
    "\n",
    "    \n",
    "    if 0 <= n <= len(words):\n",
    "        \n",
    "        words.insert(n, word_to_insert)\n",
    "        \n",
    "        result_string = \" \".join(words)\n",
    "        return result_string\n",
    "    else:\n",
    "        \n",
    "        return input_string\n",
    "\n",
    "# Example usage\n",
    "input_string = \"This is a sample sentence to demonstrate inserting a word.\"\n",
    "n = 4  # Insert at the 4th position\n",
    "word_to_insert = \"new\"\n",
    "result = insert_word_at_nth_position(input_string, n, word_to_insert)\n",
    "print(result)\n"
   ]
  },
  {
   "cell_type": "code",
   "execution_count": 6,
   "id": "bec6514c-88d4-4ca6-b667-bc1f599fbef3",
   "metadata": {},
   "outputs": [
    {
     "name": "stdout",
     "output_type": "stream",
     "text": [
      "['Name', 'Age', 'Location']\n",
      "['John', '25', 'New York']\n",
      "['Alice', '30', 'San Francisco']\n",
      "['Bob', '22', 'Los Angeles']\n"
     ]
    }
   ],
   "source": [
    "# 50. Convert a CSV string to a list of lists.\n",
    "import csv\n",
    "from io import StringIO\n",
    "\n",
    "csv_string = \"Name,Age,Location\\nJohn,25,New York\\nAlice,30,San Francisco\\nBob,22,Los Angeles\"\n",
    "\n",
    "csv_data = []\n",
    "\n",
    "csv_reader = csv.reader(StringIO(csv_string))\n",
    "\n",
    "for row in csv_reader:\n",
    "    csv_data.append(row)\n",
    "\n",
    "for row in csv_data:\n",
    "    print(row)\n"
   ]
  },
  {
   "cell_type": "markdown",
   "id": "503daac6-7997-475f-9b72-d0071d157bdc",
   "metadata": {},
   "source": [
    "List Based Practice Problem :\n"
   ]
  },
  {
   "cell_type": "code",
   "execution_count": 9,
   "id": "f9f5ab18-5ce1-4ffc-b4bb-821b317f20ed",
   "metadata": {},
   "outputs": [
    {
     "data": {
      "text/plain": [
       "[1, 2, 3, 4, 5, 6, 7, 8, 9, 10]"
      ]
     },
     "execution_count": 9,
     "metadata": {},
     "output_type": "execute_result"
    }
   ],
   "source": [
    "# 1. Create a list with integers from 1 to 10.\n",
    "l1 = []\n",
    "for i in range(1,11):\n",
    "    l1.append(i)\n",
    "l1    "
   ]
  },
  {
   "cell_type": "code",
   "execution_count": 10,
   "id": "858c3341-50d4-4d2c-bf86-3fb92f8d03e1",
   "metadata": {},
   "outputs": [
    {
     "name": "stdout",
     "output_type": "stream",
     "text": [
      "the length of list : 9\n"
     ]
    }
   ],
   "source": [
    "# 2. Find the length of a list without using the `len()` function.\n",
    "l1 = [1,2,3,4,5,6,7,8,9]\n",
    "count = 0\n",
    "for _ in l1:\n",
    "    count = count + 1\n",
    "print(\"the length of list :\" , count)    \n"
   ]
  },
  {
   "cell_type": "code",
   "execution_count": 9,
   "id": "92698b38-b62e-4b08-8963-ffd7c576f5ce",
   "metadata": {},
   "outputs": [
    {
     "name": "stdout",
     "output_type": "stream",
     "text": [
      "The updated list : [1, 2, 3, 4, 5, 6]\n"
     ]
    }
   ],
   "source": [
    "# 3. Append an element to the end of a list.\n",
    "l1 = [1,2,3,4,5]\n",
    "l1.append(6)\n",
    "print(\"The updated list :\" , l1)"
   ]
  },
  {
   "cell_type": "code",
   "execution_count": 10,
   "id": "35da46d4-c120-4d73-a030-794048fcb2d9",
   "metadata": {},
   "outputs": [
    {
     "name": "stdout",
     "output_type": "stream",
     "text": [
      "The updated list : [1, 2, 3, 4, 5, 6]\n"
     ]
    }
   ],
   "source": [
    "# 4. Insert an element at a specific index in a list.\n",
    "l1 = [1,2,4,5,6]\n",
    "l1.insert(2,3)\n",
    "print(\"The updated list :\" , l1)"
   ]
  },
  {
   "cell_type": "code",
   "execution_count": 13,
   "id": "f914a4f9-da7c-43f9-8a44-a71ec70f2086",
   "metadata": {},
   "outputs": [
    {
     "name": "stdout",
     "output_type": "stream",
     "text": [
      "The updated list : [1, 2, 3, 4, 'datascience']\n"
     ]
    }
   ],
   "source": [
    "# 5. Remove an element from a list by its value.\n",
    "l1 = [1,2,3,4,\"python\" , \"datascience\"]\n",
    "l1.remove(\"python\")\n",
    "print(\"The updated list :\" , l1)"
   ]
  },
  {
   "cell_type": "code",
   "execution_count": 12,
   "id": "99af5fc2-2543-40a4-961f-d28040e699d2",
   "metadata": {},
   "outputs": [
    {
     "name": "stdout",
     "output_type": "stream",
     "text": [
      "removed element is : lohith\n",
      "The updated list : [1, 2, 3, 4, 'jntu']\n"
     ]
    }
   ],
   "source": [
    "# 6. Remove an element from a list by its index.\n",
    "l1 = [1,2,3,4,\"lohith\", \"jntu\"]\n",
    "print(\"removed element is :\" ,l1.pop(4))\n",
    "print(\"The updated list :\" , l1)"
   ]
  },
  {
   "cell_type": "code",
   "execution_count": 17,
   "id": "2736803b-5577-482f-9555-242c60bf2d66",
   "metadata": {},
   "outputs": [
    {
     "name": "stdout",
     "output_type": "stream",
     "text": [
      "The element exists in the list\n"
     ]
    }
   ],
   "source": [
    "# 7. Check if an element exists in a list.\n",
    "l1 = [1,2,3,4,\"jntuh\",\"lohith\"]\n",
    "check = 4\n",
    "if check in l1:\n",
    "    print(\"The element exists in the list\")\n",
    "else:\n",
    "    print(\"The element doesn't exist in the list\")\n",
    "    "
   ]
  },
  {
   "cell_type": "code",
   "execution_count": 19,
   "id": "02e1aef4-1f1e-48db-8cd5-0defcee72cb1",
   "metadata": {},
   "outputs": [
    {
     "name": "stdout",
     "output_type": "stream",
     "text": [
      "The index of the first occurance of the element: 1\n"
     ]
    }
   ],
   "source": [
    "# 8. Find the index of the first occurrence of an element in a list.\n",
    "l1 = [1,2,3,2,1]\n",
    "print(\"The index of the first occurance of the element:\",l1.index(2))\n",
    "\n"
   ]
  },
  {
   "cell_type": "code",
   "execution_count": 22,
   "id": "8e860ba9-db0b-4551-9268-dd497c53d283",
   "metadata": {},
   "outputs": [
    {
     "name": "stdout",
     "output_type": "stream",
     "text": [
      "The occurrences of element in a list is 5\n"
     ]
    }
   ],
   "source": [
    "# 9. Count the occurrences of an element in a list.\n",
    "l1 = [1,1,1,1,1,2,2,2,2,3,3,3,4,4]\n",
    "print(\"The occurrences of element in a list is\" , l1.count(1))"
   ]
  },
  {
   "cell_type": "code",
   "execution_count": 28,
   "id": "e83dca47-42e0-4011-9fd9-7026fe7f6d6f",
   "metadata": {},
   "outputs": [
    {
     "name": "stdout",
     "output_type": "stream",
     "text": [
      "The new reversed list is  [8, 7, 6, 5, 4, 3, 2, 1]\n"
     ]
    }
   ],
   "source": [
    "# 10. Reverse the order of elements in a list.\n",
    "l1 =[1,2,3,4,5,6,7,8]\n",
    "l1.reverse()\n",
    "print(\"The new reversed list is \" , l1)"
   ]
  },
  {
   "cell_type": "code",
   "execution_count": 30,
   "id": "fe9aab6a-a1a7-4400-bc16-507e0b0ebea8",
   "metadata": {},
   "outputs": [
    {
     "name": "stdout",
     "output_type": "stream",
     "text": [
      "The new updated list : [1, 3, 4, 6, 7, 9]\n"
     ]
    }
   ],
   "source": [
    "# 11. Sort a list in ascending order.\n",
    "l1 = [1,9,7,4,6,3]\n",
    "l1.sort()\n",
    "print(\"The new updated list :\" ,l1)"
   ]
  },
  {
   "cell_type": "code",
   "execution_count": 32,
   "id": "d50e7500-bbdc-46ce-8efa-78babe3ea112",
   "metadata": {},
   "outputs": [
    {
     "name": "stdout",
     "output_type": "stream",
     "text": [
      "The new list : [9, 7, 6, 4, 3, 1]\n"
     ]
    }
   ],
   "source": [
    "# 12. Sort a list in descending order.\n",
    "l1 = [1,9,7,4,6,3]\n",
    "new_list = sorted(l1, reverse = True)\n",
    "print(\"The new list :\" , new_list)\n"
   ]
  },
  {
   "cell_type": "code",
   "execution_count": 34,
   "id": "6288f008-302d-4a85-9bc3-c39f410bba48",
   "metadata": {},
   "outputs": [
    {
     "data": {
      "text/plain": [
       "[2, 4, 6, 8, 10, 12, 14, 16, 18, 20]"
      ]
     },
     "execution_count": 34,
     "metadata": {},
     "output_type": "execute_result"
    }
   ],
   "source": [
    "# 13. Create a list of even numbers from 1 to 20.\n",
    "l1 = []\n",
    "for i in range(1,21):\n",
    "    if i%2 == 0:\n",
    "        l1.append(i)\n",
    "l1"
   ]
  },
  {
   "cell_type": "code",
   "execution_count": 35,
   "id": "1082fea2-233a-45e8-9b6e-54991fcd863c",
   "metadata": {},
   "outputs": [
    {
     "data": {
      "text/plain": [
       "[1, 3, 5, 7, 9, 11, 13, 15, 17, 19]"
      ]
     },
     "execution_count": 35,
     "metadata": {},
     "output_type": "execute_result"
    }
   ],
   "source": [
    "# 14. Create a list of odd numbers from 1 to 20.\n",
    "l1 = []\n",
    "for i in range(1,21):\n",
    "    if i%2 != 0:\n",
    "        l1.append(i)\n",
    "l1"
   ]
  },
  {
   "cell_type": "code",
   "execution_count": 37,
   "id": "a8e65ab8-c16c-4953-b1b9-c6b959902cd2",
   "metadata": {},
   "outputs": [
    {
     "name": "stdout",
     "output_type": "stream",
     "text": [
      "The sum of all elements in l1 : 45\n"
     ]
    }
   ],
   "source": [
    "# 15. Find the sum of all elements in a list.\n",
    "l1 = [1,2,3,4,5,6,7,8,9]\n",
    "sum = 0\n",
    "for element in l1:\n",
    "    sum += element\n",
    "print(\"The sum of all elements in l1 :\" , sum)    "
   ]
  },
  {
   "cell_type": "code",
   "execution_count": 38,
   "id": "327f4a19-fc6f-42e4-a5e0-f9ad5a34e636",
   "metadata": {},
   "outputs": [
    {
     "name": "stdout",
     "output_type": "stream",
     "text": [
      " The maximum value in the list is: 3444\n"
     ]
    }
   ],
   "source": [
    "# 16. Find the maximum value in a list.\n",
    "l1 = [1,2,3,3444,5,6,777,8,6]\n",
    "max_value = max(l1)\n",
    "print(f\" The maximum value in the list is: {max_value}\")\n"
   ]
  },
  {
   "cell_type": "code",
   "execution_count": 39,
   "id": "559bf89e-adfb-4830-9a4f-7bb0f9c05cf8",
   "metadata": {},
   "outputs": [
    {
     "name": "stdout",
     "output_type": "stream",
     "text": [
      " The maximum value in the list is: 1\n"
     ]
    }
   ],
   "source": [
    "# 17. Find the minimum value in a list.\n",
    "l1 = [1,2,3,3444,5,6,777,8,6]\n",
    "min_value = min(l1)\n",
    "print(f\" The maximum value in the list is: {min_value}\")"
   ]
  },
  {
   "cell_type": "code",
   "execution_count": 42,
   "id": "9ce6f6d7-8c64-4a3a-b79f-1e5640991b01",
   "metadata": {},
   "outputs": [
    {
     "name": "stdout",
     "output_type": "stream",
     "text": [
      "The new list : [1, 4, 9, 16, 25, 36, 49, 64, 81, 100]\n"
     ]
    }
   ],
   "source": [
    "# 18. Create a list of squares of numbers from 1 to 10.\n",
    "l1 = []\n",
    "for i in range(1,11):\n",
    "    l1.append(i**2)\n",
    "print(\"The new list :\" , l1)    "
   ]
  },
  {
   "cell_type": "code",
   "execution_count": 43,
   "id": "51028683-f641-4009-87d1-0c2a49d750de",
   "metadata": {},
   "outputs": [
    {
     "name": "stdout",
     "output_type": "stream",
     "text": [
      "[5, 10, 2, 7, 3]\n"
     ]
    }
   ],
   "source": [
    "# 19. Create a list of random numbers.\n",
    "import random\n",
    "\n",
    "random_numbers = [random.randint(1, 10) for _ in range(5)]\n",
    "\n",
    "print(random_numbers)\n"
   ]
  },
  {
   "cell_type": "code",
   "execution_count": 44,
   "id": "e68ee9a9-4f99-4ce5-87f0-3c6a58c4d9d6",
   "metadata": {},
   "outputs": [
    {
     "data": {
      "text/plain": [
       "{1, 2, 3, 4, 12}"
      ]
     },
     "execution_count": 44,
     "metadata": {},
     "output_type": "execute_result"
    }
   ],
   "source": [
    "# 20. Remove duplicates from a list.\n",
    "def remove_duplicates(lst) :\n",
    "    \n",
    "    new_list = set(lst)\n",
    "    \n",
    "    return new_list\n",
    "remove_duplicates([1,1,1,12,2,2,3,3,4,])"
   ]
  },
  {
   "cell_type": "code",
   "execution_count": 45,
   "id": "241049e5-d69f-4248-9ddc-577ce004c4c9",
   "metadata": {},
   "outputs": [
    {
     "name": "stdout",
     "output_type": "stream",
     "text": [
      "common elements: [8, 4, 6]\n"
     ]
    }
   ],
   "source": [
    "# 21. Find the common elements between two lists.\n",
    "l1 = [1,4,6,7,8]\n",
    "l2 = [2,4,5,6,8]\n",
    "\n",
    "set1 = set(l1)\n",
    "set2 = set(l2)\n",
    "\n",
    "common_elements = list(set1.intersection(set2))\n",
    "print(\"common elements:\", common_elements)"
   ]
  },
  {
   "cell_type": "code",
   "execution_count": 49,
   "id": "7f1f5418-d843-4d74-b96b-17671f3fc3d0",
   "metadata": {},
   "outputs": [
    {
     "name": "stdout",
     "output_type": "stream",
     "text": [
      "[1, 2, 3, 4, 5]\n"
     ]
    }
   ],
   "source": [
    "# 22. Find the difference between two lists.\n",
    "l1 = [1,2,3,4,5]\n",
    "l2 = [6,7,8,9,10]\n",
    "set1 = set(l1)\n",
    "set2 = set(l2)\n",
    "\n",
    "difference = list(set1 - set2)\n",
    "print(difference)\n"
   ]
  },
  {
   "cell_type": "code",
   "execution_count": 51,
   "id": "e177a7fd-7b39-4336-b1a1-9e51bdd9774d",
   "metadata": {},
   "outputs": [
    {
     "name": "stdout",
     "output_type": "stream",
     "text": [
      "[1, 2, 3, 4, 5, 6]\n"
     ]
    }
   ],
   "source": [
    "# 23. Merge two lists.\n",
    "list1 = [1, 2, 3]\n",
    "list2 = [4, 5, 6]\n",
    "\n",
    "merged_list = list1 + list2\n",
    "\n",
    "print(merged_list)\n"
   ]
  },
  {
   "cell_type": "code",
   "execution_count": 52,
   "id": "75cb3691-8b9d-4e66-81be-98488e6e568b",
   "metadata": {},
   "outputs": [
    {
     "name": "stdout",
     "output_type": "stream",
     "text": [
      "[2, 4, 6, 8, 10]\n"
     ]
    }
   ],
   "source": [
    "#24 Multiply all elements in a list by 2.\n",
    "lst = [1, 2, 3, 4, 5]\n",
    "\n",
    "for i in range(len(lst)):\n",
    "    lst[i] *= 2\n",
    "\n",
    "print(lst)\n",
    "\n",
    "  \n"
   ]
  },
  {
   "cell_type": "code",
   "execution_count": 3,
   "id": "73a8c6e8-d745-4f2c-8066-130c083dbf70",
   "metadata": {},
   "outputs": [
    {
     "name": "stdout",
     "output_type": "stream",
     "text": [
      "updated list : [1, 3, 5, 7, 9]\n"
     ]
    }
   ],
   "source": [
    "# 25. Filter out all even numbers from a list.\n",
    "l = [1,2,3,4,5,6,7,8,9]\n",
    "l1 = []\n",
    "for i in l:\n",
    "    if i%2 != 0:\n",
    "        l1.append(i)\n",
    "print(\"updated list :\",l1)        "
   ]
  },
  {
   "cell_type": "code",
   "execution_count": 5,
   "id": "34064e24-209c-4a64-a59c-f13ede004bc5",
   "metadata": {},
   "outputs": [
    {
     "name": "stdout",
     "output_type": "stream",
     "text": [
      "The updated list: [1, 2, 3, 4, 5]\n"
     ]
    }
   ],
   "source": [
    "# 26. Convert a list of strings to a list of integers.\n",
    "l1 = [\"1\",\"2\",\"3\",\"4\",\"5\"]\n",
    "int_l1 = []\n",
    "\n",
    "for string in l1:\n",
    "    int_l1.append(int(string))\n",
    "    \n",
    "print(\"The updated list:\",int_l1)    "
   ]
  },
  {
   "cell_type": "code",
   "execution_count": 6,
   "id": "e014bef2-e1a8-43c0-b059-05b583bdfef7",
   "metadata": {},
   "outputs": [
    {
     "name": "stdout",
     "output_type": "stream",
     "text": [
      "The updated list: ['1', '2', '3', '4', '5']\n"
     ]
    }
   ],
   "source": [
    "# 27. Convert a list of integers to a list of strings.\n",
    "l1 = [1,2,3,4,5]\n",
    "int_l1 = []\n",
    "\n",
    "for integer in l1:\n",
    "    int_l1.append(str(integer))\n",
    "    \n",
    "print(\"The updated list:\",int_l1)   "
   ]
  },
  {
   "cell_type": "code",
   "execution_count": 7,
   "id": "9b898d65-8034-493a-96a0-f5a662ced31b",
   "metadata": {},
   "outputs": [
    {
     "name": "stdout",
     "output_type": "stream",
     "text": [
      "The new flatten list : [1, 2, 3, 4, 5, 6, 7]\n"
     ]
    }
   ],
   "source": [
    "# 28. Flatten a nested list.\n",
    "\n",
    "l1 = [[1,2],[3,4,5],[6,7]]\n",
    "flatten_list = []\n",
    "for sublist in l1:\n",
    "    for i in sublist:\n",
    "        flatten_list.append(i)\n",
    "        \n",
    "print(\"The new flatten list :\" , flatten_list)        "
   ]
  },
  {
   "cell_type": "code",
   "execution_count": 10,
   "id": "47ab6650-ff8f-4525-9dce-1bc322759f87",
   "metadata": {},
   "outputs": [
    {
     "name": "stdout",
     "output_type": "stream",
     "text": [
      "The list of 10 fibonacci numbers: [0, 1, 1, 2, 3, 5, 8, 13, 21, 34]\n"
     ]
    }
   ],
   "source": [
    "# 29. Create a list of the first 10 Fibonacci numbers.\n",
    "fib_l1 = [0,1]\n",
    "for i in range(2,10):\n",
    "    next_fibo = fib_l1[i-1] + fib_l1[i-2]\n",
    "    fib_l1.append(next_fibo)\n",
    "print(\"The list of 10 fibonacci numbers:\", fib_l1)    "
   ]
  },
  {
   "cell_type": "code",
   "execution_count": 11,
   "id": "cb198e78-158f-4cb7-84cb-aefa36180c1d",
   "metadata": {},
   "outputs": [
    {
     "name": "stdout",
     "output_type": "stream",
     "text": [
      "The list is not sorted\n"
     ]
    }
   ],
   "source": [
    "#30 Check if a list is sorted.\n",
    "l1 = [7,4,1,5,8]\n",
    "if l1 == l1.sort :\n",
    "    print(\"The list is sorted\")\n",
    "else:\n",
    "    print(\"The list is not sorted\")"
   ]
  },
  {
   "cell_type": "code",
   "execution_count": 13,
   "id": "b2540d5a-478f-45c6-a53f-7bfec6eb4054",
   "metadata": {},
   "outputs": [
    {
     "name": "stdout",
     "output_type": "stream",
     "text": [
      "[3, 4, 5, 1, 2]\n"
     ]
    }
   ],
   "source": [
    "# 31. Rotate a list to the left by `n` positions.\n",
    "def  rotate_left(lst,n):\n",
    "    n = n%len(lst)\n",
    "    return lst[n:] + lst[:n]\n",
    "original_list = [1,2,3,4,5]\n",
    "n=2\n",
    "\n",
    "rotated_list = rotate_left(original_list,n)\n",
    "print(rotated_list)"
   ]
  },
  {
   "cell_type": "code",
   "execution_count": 14,
   "id": "1e901892-9315-4f14-b41e-110901ade858",
   "metadata": {},
   "outputs": [
    {
     "name": "stdout",
     "output_type": "stream",
     "text": [
      "[4, 5, 1, 2, 3]\n"
     ]
    }
   ],
   "source": [
    "# 32. Rotate a list to the right by `n` positions.\n",
    "def  rotate_right(lst,n):\n",
    "    n = n%len(lst)\n",
    "    return lst[-n:] + lst[:-n]\n",
    "original_list = [1,2,3,4,5]\n",
    "n=2\n",
    "\n",
    "rotated_list = rotate_right(original_list,n)\n",
    "print(rotated_list)\n"
   ]
  },
  {
   "cell_type": "code",
   "execution_count": 15,
   "id": "2d93db15-42ef-4458-9d40-579f4c9eef9e",
   "metadata": {},
   "outputs": [
    {
     "name": "stdout",
     "output_type": "stream",
     "text": [
      "Prime numbers upto 50: [2, 3, 5, 7, 11, 13, 17, 19, 23, 29, 31, 37, 41, 43, 47]\n"
     ]
    }
   ],
   "source": [
    "# 33. Create a list of prime numbers up to 50.\n",
    "l = []\n",
    "for num in range(2,51):\n",
    "    is_prime = True\n",
    "    for i in range(2, int(num**0.5)+1):\n",
    "        if num%i == 0:\n",
    "            is_prime = False\n",
    "            break\n",
    "    if is_prime:\n",
    "        l.append(num)\n",
    "print(\"Prime numbers upto 50:\", l)        "
   ]
  },
  {
   "cell_type": "code",
   "execution_count": 18,
   "id": "79f9f189-92f8-4eb0-914e-fe9c3ffc740a",
   "metadata": {},
   "outputs": [
    {
     "name": "stdout",
     "output_type": "stream",
     "text": [
      "[[1, 2, 3], [4, 5, 6], [7, 8, 9]]\n"
     ]
    }
   ],
   "source": [
    "# 34. Split a list into chunks of size `n`.\n",
    "def split_list(input_list , chunk_size):\n",
    "    for i in range(0, len(input_list), chunk_size):\n",
    "        yield input_list[i:i + chunk_size]\n",
    "        \n",
    "my_list = [1,2,3,4,5,6,7,8,9]\n",
    "chunk_size = 3\n",
    "chunked_list = list(split_list(my_list, chunk_size))\n",
    "print(chunked_list)\n"
   ]
  },
  {
   "cell_type": "code",
   "execution_count": 19,
   "id": "f0b9d48e-4b22-42b4-bb67-0f5a5e922090",
   "metadata": {},
   "outputs": [
    {
     "name": "stdout",
     "output_type": "stream",
     "text": [
      "Second largest number : 41\n"
     ]
    }
   ],
   "source": [
    "# 35. Find the second largest number in a list.\n",
    "l1 = [12,45,2,41,31,10,8,6]\n",
    "\n",
    "sorted_list = sorted(l1 , reverse = True)\n",
    "\n",
    "second_largest = sorted_list[1]\n",
    "\n",
    "print(\"Second largest number :\", second_largest)"
   ]
  },
  {
   "cell_type": "code",
   "execution_count": 23,
   "id": "1cbc75ae-af9f-401f-986d-21d9a118d55a",
   "metadata": {},
   "outputs": [
    {
     "data": {
      "text/plain": [
       "[1, 4, 9, 16, 25]"
      ]
     },
     "execution_count": 23,
     "metadata": {},
     "output_type": "execute_result"
    }
   ],
   "source": [
    "# 36. Replace every element in a list with its square.\n",
    "l1 = [1,2,3,4,5]\n",
    "for i in range(len(l1)):\n",
    "    l1[i] = l1[i]**2    \n",
    "l1    \n",
    "    "
   ]
  },
  {
   "cell_type": "code",
   "execution_count": 25,
   "id": "2eae4949-2462-42c2-9c9c-5e9d0b03b148",
   "metadata": {},
   "outputs": [
    {
     "name": "stdout",
     "output_type": "stream",
     "text": [
      "{'apple': 0, 'banana': 1, 'cherry': 2, 'date': 3}\n"
     ]
    }
   ],
   "source": [
    "# 37. Convert a list to a dictionary where list elements become keys and their\n",
    "# indices become values.\n",
    "l = [\"apple\" , \"banana\", \"cherry\" , \"date\"]\n",
    "my_dict = {}\n",
    "for index , value in enumerate(l):\n",
    "    my_dict[value] = index\n",
    "    \n",
    "print(my_dict)    "
   ]
  },
  {
   "cell_type": "code",
   "execution_count": 29,
   "id": "d9251dc7-7db1-48cf-8e88-7ecf618def8b",
   "metadata": {},
   "outputs": [
    {
     "name": "stdout",
     "output_type": "stream",
     "text": [
      "[1, 2, 5, 4, 6, 3]\n"
     ]
    }
   ],
   "source": [
    "# 38. Shuffle the elements of a list randomly.\n",
    "import random\n",
    "l = [1,2,3,4,5,6]\n",
    "l2 = random.sample(l , len(l))\n",
    "print(l2)"
   ]
  },
  {
   "cell_type": "code",
   "execution_count": 32,
   "id": "78a55c3a-6b30-4e71-8837-312ed77e292d",
   "metadata": {},
   "outputs": [
    {
     "name": "stdout",
     "output_type": "stream",
     "text": [
      "[1, 1, 2, 6, 24, 120, 720, 5040, 40320, 362880]\n"
     ]
    }
   ],
   "source": [
    "# 39. Create a list of the first 10 factorial numbers.\n",
    "fact_list = []\n",
    "\n",
    "for n in range(10):\n",
    "    fact = 1\n",
    "    for i in range(1, n+1):\n",
    "        fact *= i\n",
    "    fact_list.append(fact)\n",
    "        \n",
    "print(fact_list)        "
   ]
  },
  {
   "cell_type": "code",
   "execution_count": 33,
   "id": "df8eb154-14f2-41df-9479-64f6928e002e",
   "metadata": {},
   "outputs": [
    {
     "name": "stdout",
     "output_type": "stream",
     "text": [
      "Lists have atleast one element in common\n"
     ]
    }
   ],
   "source": [
    "# 40. Check if two lists have at least one element in common.\n",
    "l1 = [1,2,3,4,5]\n",
    "l2 = [4,5,6,7,8]\n",
    "\n",
    "if set(l1).intersection(l2):\n",
    "    print(\"Lists have atleast one element in common\")\n",
    "else:\n",
    "    print(\"Lists have no common elemets\")\n",
    "    "
   ]
  },
  {
   "cell_type": "code",
   "execution_count": 36,
   "id": "a8dca439-7b1e-4bec-b614-7bef68e4bc12",
   "metadata": {},
   "outputs": [
    {
     "data": {
      "text/plain": [
       "[]"
      ]
     },
     "execution_count": 36,
     "metadata": {},
     "output_type": "execute_result"
    }
   ],
   "source": [
    "# 41. Remove all elements from a list.\n",
    "l1 = [2,3,4,5,65,6,7]\n",
    "l1.clear()\n",
    "print(\"The cleared list\")l1"
   ]
  },
  {
   "cell_type": "code",
   "execution_count": 3,
   "id": "94e5ad59-9cb2-468c-8a82-b3adc2dbdc1a",
   "metadata": {},
   "outputs": [
    {
     "name": "stdout",
     "output_type": "stream",
     "text": [
      "The new updated list: [1, 0, 4, 0, 8, 0, 5]\n"
     ]
    }
   ],
   "source": [
    "# 42. Replace negative numbers in a list with 0.\n",
    "l = [1,-1,4,-6,8,-7,5]\n",
    "l1 = []\n",
    "\n",
    "for x in l:\n",
    "    if x<0:\n",
    "        l1.append(0)\n",
    "    else:\n",
    "        l1.append(x)\n",
    "        \n",
    "print(\"The new updated list:\" ,l1)        "
   ]
  },
  {
   "cell_type": "code",
   "execution_count": 4,
   "id": "28060d12-0ce1-404a-b5c4-ca483b658f3e",
   "metadata": {},
   "outputs": [
    {
     "data": {
      "text/plain": [
       "['This', 'is', 'the', 'sample', 'sentence']"
      ]
     },
     "execution_count": 4,
     "metadata": {},
     "output_type": "execute_result"
    }
   ],
   "source": [
    "# 43. Convert a string into a list of words.\n",
    "l = \"This is the sample sentence\"\n",
    "word_list = l.split()\n",
    "word_list"
   ]
  },
  {
   "cell_type": "code",
   "execution_count": 6,
   "id": "5c6c7bfd-18be-4d73-9eb9-448cdd1536e1",
   "metadata": {},
   "outputs": [
    {
     "data": {
      "text/plain": [
       "'This is the sample sentence'"
      ]
     },
     "execution_count": 6,
     "metadata": {},
     "output_type": "execute_result"
    }
   ],
   "source": [
    "# 44. Convert a list of words into a string.\n",
    "l = ['This', 'is', 'the', 'sample', 'sentence']\n",
    "l2 = \" \".join(l)\n",
    "l2"
   ]
  },
  {
   "cell_type": "code",
   "execution_count": 7,
   "id": "6b2583ce-832a-48f6-8141-23cbcd4037da",
   "metadata": {},
   "outputs": [
    {
     "data": {
      "text/plain": [
       "[1, 2, 4, 8, 16]"
      ]
     },
     "execution_count": 7,
     "metadata": {},
     "output_type": "execute_result"
    }
   ],
   "source": [
    "# 45. Create a list of the first `n` powers of 2.\n",
    "n = 5\n",
    "power_of_2 = []\n",
    "\n",
    "for i in range(n):\n",
    "    power_of_2.append(2**i)\n",
    "power_of_2    \n"
   ]
  },
  {
   "cell_type": "code",
   "execution_count": 8,
   "id": "b9dbda5c-20ca-4dba-8e66-c5d9d7936095",
   "metadata": {},
   "outputs": [
    {
     "name": "stdout",
     "output_type": "stream",
     "text": [
      "The longest string is: elderberry\n"
     ]
    }
   ],
   "source": [
    "# 46. Find the longest string in a list of strings.\n",
    "string_list = [\"apple\", \"banana\", \"cherry\", \"date\", \"elderberry\"]\n",
    "\n",
    "longest_string = max(string_list, key=len)\n",
    "\n",
    "print(\"The longest string is:\", longest_string)\n"
   ]
  },
  {
   "cell_type": "code",
   "execution_count": 9,
   "id": "1c875aab-2799-4365-84a9-9c540d8f8eb9",
   "metadata": {},
   "outputs": [
    {
     "name": "stdout",
     "output_type": "stream",
     "text": [
      "The shortest string is: date\n"
     ]
    }
   ],
   "source": [
    "# 47. Find the shortest string in a list of strings.\n",
    "l = [\"apple\", \"banana\", \"cherry\", \"date\", \"elderberry\"]\n",
    "shortest_string = min(l , key = len)\n",
    "print(\"The shortest string is:\" , shortest_string)"
   ]
  },
  {
   "cell_type": "code",
   "execution_count": 10,
   "id": "c1c3bd59-2653-4ffc-935d-8cb782153660",
   "metadata": {},
   "outputs": [
    {
     "name": "stdout",
     "output_type": "stream",
     "text": [
      "[1, 3, 6, 10, 15]\n"
     ]
    }
   ],
   "source": [
    "# 48. Create a list of the first `n` triangular numbers.\n",
    "n = 5 \n",
    "triangular_numbers = []\n",
    "\n",
    "for i in range(1, n + 1):\n",
    "    triangular_number = (i * (i + 1)) // 2\n",
    "    triangular_numbers.append(triangular_number)\n",
    "\n",
    "print(triangular_numbers)\n",
    "\n"
   ]
  },
  {
   "cell_type": "code",
   "execution_count": 11,
   "id": "d5d7b849-c898-4d02-b5a5-e4ae611dd45b",
   "metadata": {},
   "outputs": [
    {
     "name": "stdout",
     "output_type": "stream",
     "text": [
      "The subsequence is present in the main list.\n"
     ]
    }
   ],
   "source": [
    "# 49. Check if a list contains another list as a subsequence.\n",
    "def is_subsequence(main_list, subsequence):\n",
    "\n",
    "    main_index = 0\n",
    "    sub_index = 0\n",
    "\n",
    "    while main_index < len(main_list) and sub_index < len(subsequence):\n",
    "      \n",
    "        if main_list[main_index] == subsequence[sub_index]:\n",
    "            sub_index += 1\n",
    "        main_index += 1\n",
    "\n",
    "   \n",
    "    return sub_index == len(subsequence)\n",
    "\n",
    "\n",
    "main_list = [1, 2, 3, 4, 5, 6]\n",
    "subsequence = [2, 4, 6]\n",
    "\n",
    "if is_subsequence(main_list, subsequence):\n",
    "    print(\"The subsequence is present in the main list.\")\n",
    "else:\n",
    "    print(\"The subsequence is not present in the main list.\")\n"
   ]
  },
  {
   "cell_type": "code",
   "execution_count": 12,
   "id": "a1502150-e4c2-4fdb-abdb-ec8a1064a318",
   "metadata": {},
   "outputs": [
    {
     "name": "stdout",
     "output_type": "stream",
     "text": [
      "List after swapping: [1, 4, 3, 2, 5]\n"
     ]
    }
   ],
   "source": [
    "# 50. Swap two elements in a list by their indices.\n",
    "my_list = [1, 2, 3, 4, 5]\n",
    "\n",
    "index1 = 1\n",
    "index2 = 3\n",
    "\n",
    "if 0 <= index1 < len(my_list) and 0 <= index2 < len(my_list):\n",
    "    my_list[index1], my_list[index2] = my_list[index2], my_list[index1]\n",
    "    print(\"List after swapping:\", my_list)\n",
    "else:\n",
    "    print(\"Invalid indices. Make sure they are within bounds.\")\n"
   ]
  },
  {
   "cell_type": "code",
   "execution_count": null,
   "id": "a48fe5b6-eef1-4655-a3a8-9277f2572af1",
   "metadata": {},
   "outputs": [],
   "source": []
  },
  {
   "cell_type": "markdown",
   "id": "f157bab7-e3fa-4e42-bce6-bd5279d031b3",
   "metadata": {},
   "source": [
    "Tuple Based Practice Problem :"
   ]
  },
  {
   "cell_type": "code",
   "execution_count": 16,
   "id": "11e229f3-9ca3-44df-b9b7-8ff4baac7e5d",
   "metadata": {},
   "outputs": [
    {
     "data": {
      "text/plain": [
       "(1, 2, 3, 4, 5)"
      ]
     },
     "execution_count": 16,
     "metadata": {},
     "output_type": "execute_result"
    }
   ],
   "source": [
    "# 1. Create a tuple with integers from 1 to 5.\n",
    "t = ()\n",
    "for i in range(1,6):\n",
    "    t += (i,)\n",
    "t    "
   ]
  },
  {
   "cell_type": "code",
   "execution_count": 17,
   "id": "8e6741e4-f9d6-4eb6-a674-8b81c8d12011",
   "metadata": {},
   "outputs": [
    {
     "data": {
      "text/plain": [
       "3"
      ]
     },
     "execution_count": 17,
     "metadata": {},
     "output_type": "execute_result"
    }
   ],
   "source": [
    "# 2. Access the third element of a tuple.\n",
    "t = (1,2,3,4,5,6)\n",
    "t[2]"
   ]
  },
  {
   "cell_type": "code",
   "execution_count": 18,
   "id": "515a7af4-fdda-41ea-8bab-b30ee04caf86",
   "metadata": {},
   "outputs": [
    {
     "name": "stdout",
     "output_type": "stream",
     "text": [
      "The length of a tuple: 6\n"
     ]
    }
   ],
   "source": [
    "# 3. Find the length of a tuple without using the `len()` function.\n",
    "t = (1,2,3,4,5,6)\n",
    "count = 0\n",
    "for _ in t :\n",
    "    count += 1\n",
    "print(\"The length of a tuple:\" , count)    "
   ]
  },
  {
   "cell_type": "code",
   "execution_count": 1,
   "id": "8b378967-b726-4472-9e5b-b5e236c706dc",
   "metadata": {},
   "outputs": [
    {
     "data": {
      "text/plain": [
       "3"
      ]
     },
     "execution_count": 1,
     "metadata": {},
     "output_type": "execute_result"
    }
   ],
   "source": [
    "# 4. Count the occurrences of an element in a tuple.\n",
    "t = (1,2,3,1,1,4,5,6)\n",
    "t.count(1)"
   ]
  },
  {
   "cell_type": "code",
   "execution_count": 3,
   "id": "9eb6a371-4c96-4986-a30f-f7b849fd4e49",
   "metadata": {},
   "outputs": [
    {
     "name": "stdout",
     "output_type": "stream",
     "text": [
      "The index of the first occurrence of 1: 0\n"
     ]
    }
   ],
   "source": [
    "# 5. Find the index of the first occurrence of an element in a tuple.\n",
    "t = (1,2,3,4,5,6,1,5,3)\n",
    "print(\"The index of the first occurrence of 1:\",t.index(1))"
   ]
  },
  {
   "cell_type": "code",
   "execution_count": 5,
   "id": "2e1a0e6f-bdda-4c37-a078-2bd2e39c8eba",
   "metadata": {},
   "outputs": [
    {
     "name": "stdin",
     "output_type": "stream",
     "text": [
      "Enter an element to check if it is present in tuple: 5\n"
     ]
    },
    {
     "name": "stdout",
     "output_type": "stream",
     "text": [
      "The element exists in the tuple\n"
     ]
    }
   ],
   "source": [
    "# 6. Check if an element exists in a tuple.\n",
    "t = (1,2,3,4,5,6)\n",
    "a = int(input(\"Enter an element to check if it is present in tuple:\"))\n",
    "if a in t:\n",
    "    print(\"The element exists in the tuple\")\n",
    "else:\n",
    "    print(\"The element doesnt exist in the tupple\")\n"
   ]
  },
  {
   "cell_type": "code",
   "execution_count": 6,
   "id": "256a5135-b4b6-40d0-a606-65478d5644e9",
   "metadata": {},
   "outputs": [
    {
     "data": {
      "text/plain": [
       "[1, 2, 3, 4, 5, 6]"
      ]
     },
     "execution_count": 6,
     "metadata": {},
     "output_type": "execute_result"
    }
   ],
   "source": [
    "# 7. Convert a tuple to a list.\n",
    "t = (1,2,3,4,5,6)\n",
    "a = list(t)\n",
    "a"
   ]
  },
  {
   "cell_type": "code",
   "execution_count": 7,
   "id": "d0ee5bf7-8dbf-4386-96f8-cb8cb2139c5b",
   "metadata": {},
   "outputs": [
    {
     "data": {
      "text/plain": [
       "(1, 2, 3, 4, 5, 6)"
      ]
     },
     "execution_count": 7,
     "metadata": {},
     "output_type": "execute_result"
    }
   ],
   "source": [
    "# 8. Convert a list to a tuple.\n",
    "l = [1,2,3,4,5,6]\n",
    "a = tuple(l)\n",
    "a"
   ]
  },
  {
   "cell_type": "code",
   "execution_count": 8,
   "id": "eb92bbae-9613-4aea-a847-3171f2bf2a79",
   "metadata": {},
   "outputs": [
    {
     "name": "stdout",
     "output_type": "stream",
     "text": [
      "1\n",
      "2\n",
      "3\n"
     ]
    }
   ],
   "source": [
    "# 9. Unpack the elements of a tuple into variables.\n",
    "t = (1,2,3)\n",
    "var1 , var2 , var3 = t\n",
    "print(var1)\n",
    "print(var2)\n",
    "print(var3)"
   ]
  },
  {
   "cell_type": "code",
   "execution_count": 9,
   "id": "0a149930-c69f-46ff-a4b8-7c203c6a6f40",
   "metadata": {},
   "outputs": [
    {
     "data": {
      "text/plain": [
       "(2, 4, 6, 8, 10)"
      ]
     },
     "execution_count": 9,
     "metadata": {},
     "output_type": "execute_result"
    }
   ],
   "source": [
    "# 10. Create a tuple of even numbers from 1 to 10.\n",
    "t = []\n",
    "for i in range(1,11):\n",
    "    if i%2 == 0:\n",
    "        t.append(i)\n",
    "tuple(t)        \n",
    "        "
   ]
  },
  {
   "cell_type": "code",
   "execution_count": 10,
   "id": "efba5bd6-63b5-484b-96e3-a726318011f4",
   "metadata": {},
   "outputs": [
    {
     "data": {
      "text/plain": [
       "(1, 3, 5, 7, 9)"
      ]
     },
     "execution_count": 10,
     "metadata": {},
     "output_type": "execute_result"
    }
   ],
   "source": [
    "# 11. Create a tuple of odd numbers from 1 to 10.\n",
    "t = []\n",
    "for i in range(1,11):\n",
    "    if i%2 != 0:\n",
    "        t.append(i)\n",
    "tuple(t)        "
   ]
  },
  {
   "cell_type": "code",
   "execution_count": 12,
   "id": "dc102ec0-7e26-43b4-b2df-a6b4f08cdb53",
   "metadata": {},
   "outputs": [
    {
     "data": {
      "text/plain": [
       "(1, 2, 3, 4, 5, 6, 7, 8, 9, 10)"
      ]
     },
     "execution_count": 12,
     "metadata": {},
     "output_type": "execute_result"
    }
   ],
   "source": [
    "# 12. Concatenate two tuples.\n",
    "t1 = (1,2,3,4,5)\n",
    "t2 = (6,7,8,9,10)\n",
    "t = t1 + t2\n",
    "t"
   ]
  },
  {
   "cell_type": "code",
   "execution_count": 14,
   "id": "7a470248-5c9f-41bd-962e-764655a76cd9",
   "metadata": {},
   "outputs": [
    {
     "data": {
      "text/plain": [
       "(1, 2, 3, 1, 2, 3, 1, 2, 3)"
      ]
     },
     "execution_count": 14,
     "metadata": {},
     "output_type": "execute_result"
    }
   ],
   "source": [
    "# 13. Repeat a tuple three times.\n",
    "t = (1,2,3)\n",
    "t1 = t*3\n",
    "t1"
   ]
  },
  {
   "cell_type": "code",
   "execution_count": 15,
   "id": "b45928e1-54c8-4e36-849a-e13dc8045401",
   "metadata": {},
   "outputs": [
    {
     "name": "stdout",
     "output_type": "stream",
     "text": [
      "The tuple is not empty\n"
     ]
    }
   ],
   "source": [
    "# 14. Check if a tuple is empty.\n",
    "t = (1,2,3,4,5)\n",
    "if not t:\n",
    "    print(\"The tuple is empty\")\n",
    "else:\n",
    "    print(\"The tuple is not empty\")"
   ]
  },
  {
   "cell_type": "code",
   "execution_count": 16,
   "id": "e4e9bf88-dd61-41de-bf94-50a45263d59d",
   "metadata": {},
   "outputs": [
    {
     "data": {
      "text/plain": [
       "((1, 2), (3, 4), (4, 5))"
      ]
     },
     "execution_count": 16,
     "metadata": {},
     "output_type": "execute_result"
    }
   ],
   "source": [
    "# 15. Create a nested tuple.\n",
    "t = ((1,2), (3,4) , (4,5))\n",
    "t"
   ]
  },
  {
   "cell_type": "code",
   "execution_count": 17,
   "id": "3811fa9c-56b2-4a50-a81f-db3f04e839a9",
   "metadata": {},
   "outputs": [
    {
     "data": {
      "text/plain": [
       "1"
      ]
     },
     "execution_count": 17,
     "metadata": {},
     "output_type": "execute_result"
    }
   ],
   "source": [
    "# 16. Access the first element of a nested tuple.\n",
    "t = ((1,2), (3,4) , (4,5))\n",
    "t[0][0]"
   ]
  },
  {
   "cell_type": "code",
   "execution_count": 19,
   "id": "355d8d64-984d-487b-8dc4-4bbeee73aac6",
   "metadata": {},
   "outputs": [
    {
     "data": {
      "text/plain": [
       "(42,)"
      ]
     },
     "execution_count": 19,
     "metadata": {},
     "output_type": "execute_result"
    }
   ],
   "source": [
    "# 17. Create a tuple with a single element.\n",
    "single_element_tuple = (42,)\n",
    "single_element_tuple\n",
    "# I have created a tuple single_element_tuple with a single element, which is the integer 42. \n",
    "# The trailing comma distinguishes it as a tuple with one element rather than just an integer in parentheses."
   ]
  },
  {
   "cell_type": "code",
   "execution_count": 21,
   "id": "e7b0dc92-0050-47a4-bfb1-90c5650e66e9",
   "metadata": {},
   "outputs": [
    {
     "name": "stdout",
     "output_type": "stream",
     "text": [
      "Tuples are equal\n"
     ]
    }
   ],
   "source": [
    "# 18. Compare two tuples.\n",
    "tuple1 = (1, 2, 3)\n",
    "tuple2 = (1, 2, 3)\n",
    "\n",
    "if tuple1 == tuple2:\n",
    "    print(\"Tuples are equal\")\n",
    "else:\n",
    "    print(\"Tuples are not equal\")"
   ]
  },
  {
   "cell_type": "code",
   "execution_count": 23,
   "id": "07012989-c6db-4156-81e1-44fb6bbbf47f",
   "metadata": {},
   "outputs": [],
   "source": [
    "# 19. Delete a tuple.\n",
    "t = (1,2,3,4,5,6)\n",
    "del t\n",
    "# Attempting to access the tuple after deletion will raise an error"
   ]
  },
  {
   "cell_type": "code",
   "execution_count": 24,
   "id": "47a88bf8-ea17-4532-9dec-4a24400999ca",
   "metadata": {},
   "outputs": [
    {
     "data": {
      "text/plain": [
       "(1, 2)"
      ]
     },
     "execution_count": 24,
     "metadata": {},
     "output_type": "execute_result"
    }
   ],
   "source": [
    "# 20. Slice a tuple.\n",
    "t = (1,2,3,4,5,6)\n",
    "t[0:2]"
   ]
  },
  {
   "cell_type": "code",
   "execution_count": 27,
   "id": "3983c850-813b-4b80-b461-5d2afac97660",
   "metadata": {},
   "outputs": [
    {
     "name": "stdout",
     "output_type": "stream",
     "text": [
      "The maximum value in the tuple is: 7\n"
     ]
    }
   ],
   "source": [
    "# 21. Find the maximum value in a tuple.\n",
    "t = (1,2,3,4,5,6,7)\n",
    "a = max(t)\n",
    "print(\"The maximum value in the tuple is:\" , a)"
   ]
  },
  {
   "cell_type": "code",
   "execution_count": 28,
   "id": "755de77b-7534-4f21-8fd3-351b7286e425",
   "metadata": {},
   "outputs": [
    {
     "name": "stdout",
     "output_type": "stream",
     "text": [
      "The minimum value in the tuple is: 1\n"
     ]
    }
   ],
   "source": [
    "# 22. Find the minimum value in a tuple.\n",
    "t = (1,2,3,4,5,6,7)\n",
    "a = min(t)\n",
    "print(\"The minimum value in the tuple is:\" , a)"
   ]
  },
  {
   "cell_type": "code",
   "execution_count": 29,
   "id": "678ad4d4-1fc6-4aef-bdba-5957991ae481",
   "metadata": {},
   "outputs": [
    {
     "data": {
      "text/plain": [
       "('p', 'w', 's', 'k', 'i', 'l', 'l', 's')"
      ]
     },
     "execution_count": 29,
     "metadata": {},
     "output_type": "execute_result"
    }
   ],
   "source": [
    "# 23. Convert a string to a tuple of characters.\n",
    "a = \"pwskills\"\n",
    "tuple(a)"
   ]
  },
  {
   "cell_type": "code",
   "execution_count": 31,
   "id": "8fcd8642-6814-42f3-a27f-86e3fab8035f",
   "metadata": {},
   "outputs": [
    {
     "data": {
      "text/plain": [
       "'apple'"
      ]
     },
     "execution_count": 31,
     "metadata": {},
     "output_type": "execute_result"
    }
   ],
   "source": [
    "# 24. Convert a tuple of characters to a string.\n",
    "t = ('a' , 'p', 'p' , 'l' , 'e')\n",
    "a = \"\".join(t)\n",
    "a"
   ]
  },
  {
   "cell_type": "code",
   "execution_count": 32,
   "id": "ee56918c-1464-49a7-9d00-56a29bada8ff",
   "metadata": {},
   "outputs": [
    {
     "name": "stdout",
     "output_type": "stream",
     "text": [
      "(1, 'hello', 3.14, True, [1, 2, 3])\n"
     ]
    }
   ],
   "source": [
    "# 25. Create a tuple from multiple data types.\n",
    "mixed_tuple = (1, \"hello\", 3.14, True, [1, 2, 3])\n",
    "\n",
    "print(mixed_tuple)\n"
   ]
  },
  {
   "cell_type": "code",
   "execution_count": 34,
   "id": "1f4a730d-80fe-44d7-8e80-aa5fff84d3b1",
   "metadata": {},
   "outputs": [
    {
     "name": "stdout",
     "output_type": "stream",
     "text": [
      "The tuple are not identical\n"
     ]
    }
   ],
   "source": [
    "# 26. Check if two tuples are identical.\n",
    "tuple1 = (1, 2, 4)\n",
    "tuple2 = (1, 2, 3)\n",
    "\n",
    "if tuple1 == tuple2:\n",
    "    print(\"Tuples are identical\")\n",
    "else:\n",
    "    print(\"The tuple are not identical\")\n"
   ]
  },
  {
   "cell_type": "code",
   "execution_count": 40,
   "id": "63e07b7b-025b-4697-bde0-519dd00a05a1",
   "metadata": {},
   "outputs": [
    {
     "data": {
      "text/plain": [
       "(0, 1, 3, 6, 7, 8)"
      ]
     },
     "execution_count": 40,
     "metadata": {},
     "output_type": "execute_result"
    }
   ],
   "source": [
    "# 27. Sort the elements of a tuple.\n",
    "t = (1,7,6,3,8,0)\n",
    "a = sorted(t)\n",
    "sorted_t = tuple(a)\n",
    "sorted_t"
   ]
  },
  {
   "cell_type": "code",
   "execution_count": 41,
   "id": "03c01ada-14ca-4ff7-a5ad-6bf953283f7a",
   "metadata": {},
   "outputs": [
    {
     "name": "stdout",
     "output_type": "stream",
     "text": [
      "('1', '2', '3', '4', '5')\n"
     ]
    }
   ],
   "source": [
    "# 28. Convert a tuple of integers to a tuple of strings.\n",
    "t = (1, 2, 3, 4, 5)\n",
    "t1= ()\n",
    "for num in t:\n",
    "    string_num = str(num)\n",
    "    t1 += (string_num,)\n",
    "\n",
    "print(t1)\n"
   ]
  },
  {
   "cell_type": "code",
   "execution_count": 43,
   "id": "86975ab5-c421-4383-acaf-b919a1997bb4",
   "metadata": {},
   "outputs": [
    {
     "name": "stdout",
     "output_type": "stream",
     "text": [
      "(1, 2, 3, 4, 5)\n"
     ]
    }
   ],
   "source": [
    "# 29. Convert a tuple of strings to a tuple of integers.\n",
    "t = ('1', '2', '3', '4', '5')\n",
    "t_int = ()\n",
    "\n",
    "for str_num in t:\n",
    "    int_num = int(str_num)\n",
    "    t_int += (int_num,)\n",
    "\n",
    "print(t_int)\n"
   ]
  },
  {
   "cell_type": "code",
   "execution_count": 46,
   "id": "c581d0a3-e22a-49bc-9d48-aae71d53cc6f",
   "metadata": {},
   "outputs": [
    {
     "data": {
      "text/plain": [
       "(1, 2, 3, 4, 5, 'lohi', 'jntuh', 'chemical')"
      ]
     },
     "execution_count": 46,
     "metadata": {},
     "output_type": "execute_result"
    }
   ],
   "source": [
    "# 30. Merge two tuples.\n",
    "t1 = (1,2,3,4,5)\n",
    "t2 = (\"lohi\" , \"jntuh\" , \"chemical\")\n",
    "t = t1+t2\n",
    "t"
   ]
  },
  {
   "cell_type": "code",
   "execution_count": 47,
   "id": "93b2e5ed-d2ec-4216-bd0f-81bb76fb7192",
   "metadata": {},
   "outputs": [
    {
     "name": "stdout",
     "output_type": "stream",
     "text": [
      "(1, 2, 3, 4, 5, 6, 7, 8)\n"
     ]
    }
   ],
   "source": [
    "# 31. Flatten a nested tuple.\n",
    "def flatten_nested_tuple(nested_tuple):\n",
    "    flattened_tuple = ()\n",
    "    for item in nested_tuple:\n",
    "        if isinstance(item, tuple):\n",
    "            flattened_tuple += flatten_nested_tuple(item)\n",
    "        else:\n",
    "            flattened_tuple += (item,)\n",
    "    return flattened_tuple\n",
    "\n",
    "nested_tuple = ((1, 2), (3, 4, 5), (6, (7, 8)))\n",
    "\n",
    "flattened_tuple = flatten_nested_tuple(nested_tuple)\n",
    "\n",
    "print(flattened_tuple)\n"
   ]
  },
  {
   "cell_type": "code",
   "execution_count": 48,
   "id": "4dfe19ad-a3c3-4a18-90ed-0bcd7097f830",
   "metadata": {},
   "outputs": [
    {
     "name": "stdout",
     "output_type": "stream",
     "text": [
      "(2, 3, 5, 7, 11)\n"
     ]
    }
   ],
   "source": [
    "# 32. Create a tuple of the first 5 prime numbers.\n",
    "def is_prime(num):\n",
    "    if num <= 1:\n",
    "        return False\n",
    "    for i in range(2, int(num**0.5) + 1):\n",
    "        if num % i == 0:\n",
    "            return False\n",
    "    return True\n",
    "\n",
    "prime_numbers = ()\n",
    "count = 0\n",
    "num = 2  \n",
    "\n",
    "while count < 5:\n",
    "    if is_prime(num):\n",
    "        prime_numbers += (num,)\n",
    "        count += 1\n",
    "    num += 1\n",
    "\n",
    "print(prime_numbers)\n"
   ]
  },
  {
   "cell_type": "code",
   "execution_count": 49,
   "id": "c9f9ca82-507f-4223-9d3a-1a5373c8066c",
   "metadata": {},
   "outputs": [
    {
     "name": "stdout",
     "output_type": "stream",
     "text": [
      "True\n",
      "False\n"
     ]
    }
   ],
   "source": [
    "# 33. Check if a tuple is a palindrome.\n",
    "def is_palindrome(input_tuple):\n",
    "    return input_tuple == input_tuple[::-1]\n",
    "\n",
    "palindrome_tuple = (1, 2, 3, 2, 1)\n",
    "non_palindrome_tuple = (1, 2, 3, 4, 5)\n",
    "\n",
    "\n",
    "print(is_palindrome(palindrome_tuple))  \n",
    "print(is_palindrome(non_palindrome_tuple))  \n"
   ]
  },
  {
   "cell_type": "code",
   "execution_count": 2,
   "id": "879d5493-0227-4c6d-83e8-daabebd114d3",
   "metadata": {},
   "outputs": [
    {
     "data": {
      "text/plain": [
       "(1, 4, 9, 16, 25)"
      ]
     },
     "execution_count": 2,
     "metadata": {},
     "output_type": "execute_result"
    }
   ],
   "source": [
    "# 34. Create a tuple of squares of numbers from 1 to 5.\n",
    "t = tuple(x**2 for x in range(1,6))\n",
    "t"
   ]
  },
  {
   "cell_type": "code",
   "execution_count": 6,
   "id": "047e3978-9e30-4078-b17c-03f6bc324688",
   "metadata": {},
   "outputs": [
    {
     "data": {
      "text/plain": [
       "(1, 3, 5)"
      ]
     },
     "execution_count": 6,
     "metadata": {},
     "output_type": "execute_result"
    }
   ],
   "source": [
    "# 35. Filter out all even numbers from a tuple.\n",
    "t = (1,2,3,4,5,6)\n",
    "filtered_t = tuple(x for x in t if x%2 != 0)\n",
    "filtered_t"
   ]
  },
  {
   "cell_type": "code",
   "execution_count": 9,
   "id": "53850761-b8a9-4db8-a4f4-400acad637ec",
   "metadata": {},
   "outputs": [
    {
     "data": {
      "text/plain": [
       "(2, 4, 6, 8, 10, 12)"
      ]
     },
     "execution_count": 9,
     "metadata": {},
     "output_type": "execute_result"
    }
   ],
   "source": [
    "# 36. Multiply all elements in a tuple by 2.\n",
    "t = (1,2,3,4,5,6)\n",
    "new_t = tuple(x*2 for x in t)\n",
    "new_t"
   ]
  },
  {
   "cell_type": "code",
   "execution_count": 10,
   "id": "74251298-e0d7-479c-ab57-9397db012af7",
   "metadata": {},
   "outputs": [
    {
     "name": "stdout",
     "output_type": "stream",
     "text": [
      "(100, 69, 61, 45, 37)\n"
     ]
    }
   ],
   "source": [
    "# 37. Create a tuple of random numbers.\n",
    "import random\n",
    "\n",
    "random_tuple = tuple(random.randint(1, 100) for _ in range(5))\n",
    "\n",
    "print(random_tuple)\n"
   ]
  },
  {
   "cell_type": "code",
   "execution_count": 11,
   "id": "02393218-8043-4049-a118-290d30117af6",
   "metadata": {},
   "outputs": [
    {
     "name": "stdout",
     "output_type": "stream",
     "text": [
      "True\n",
      "False\n"
     ]
    }
   ],
   "source": [
    "# 38. Check if a tuple is sorted.\n",
    "def is_sorted(input_tuple):\n",
    "    for i in range(len(input_tuple) - 1):\n",
    "        if input_tuple[i] > input_tuple[i + 1]:\n",
    "            return False\n",
    "    return True\n",
    "sorted_tuple = (1, 2, 3, 4, 5)\n",
    "unsorted_tuple = (5, 2, 3, 4, 1)\n",
    "\n",
    "# Check if the tuples are sorted\n",
    "print(is_sorted(sorted_tuple))   \n",
    "print(is_sorted(unsorted_tuple))  "
   ]
  },
  {
   "cell_type": "code",
   "execution_count": 12,
   "id": "5f929148-6ab1-4870-9d31-a25fd427cd0d",
   "metadata": {},
   "outputs": [
    {
     "name": "stdout",
     "output_type": "stream",
     "text": [
      "(3, 4, 5, 1, 2)\n"
     ]
    }
   ],
   "source": [
    "# 39. Rotate a tuple to the left by `n` positions.\n",
    "def rotate_left(input_tuple, n):\n",
    "    n %= len(input_tuple)  \n",
    "    rotated_tuple = input_tuple[n:] + input_tuple[:n]\n",
    "    return rotated_tuple\n",
    "\n",
    "original_tuple = (1, 2, 3, 4, 5)\n",
    "n = 2  \n",
    "\n",
    "rotated_tuple = rotate_left(original_tuple, n)\n",
    "print(rotated_tuple)\n"
   ]
  },
  {
   "cell_type": "code",
   "execution_count": 13,
   "id": "1d54c7fc-89bc-4ab1-8303-b4cb4b4e3a24",
   "metadata": {},
   "outputs": [
    {
     "name": "stdout",
     "output_type": "stream",
     "text": [
      "(4, 5, 1, 2, 3)\n"
     ]
    }
   ],
   "source": [
    "# 40. Rotate a tuple to the right by `n` positions.\n",
    "def rotate_right(input_tuple, n):\n",
    "    n %= len(input_tuple) \n",
    "    rotated_tuple = input_tuple[-n:] + input_tuple[:-n]\n",
    "    return rotated_tuple\n",
    "\n",
    "# Test case\n",
    "original_tuple = (1, 2, 3, 4, 5)\n",
    "n = 2  \n",
    "\n",
    "rotated_tuple = rotate_right(original_tuple, n)\n",
    "print(rotated_tuple)\n"
   ]
  },
  {
   "cell_type": "code",
   "execution_count": 14,
   "id": "c9755f03-89b3-400b-aa28-0a641018d531",
   "metadata": {},
   "outputs": [
    {
     "name": "stdout",
     "output_type": "stream",
     "text": [
      "(0, 1, 1, 2, 3)\n"
     ]
    }
   ],
   "source": [
    "# 41. Create a tuple of the first 5 Fibonacci numbers.\n",
    "def generate_fibonacci(n):\n",
    "    fibonacci_sequence = []\n",
    "    a, b = 0, 1\n",
    "    for _ in range(n):\n",
    "        fibonacci_sequence.append(a)\n",
    "        a, b = b, a + b\n",
    "    return tuple(fibonacci_sequence)\n",
    "\n",
    "\n",
    "first_5_fibonacci = generate_fibonacci(5)\n",
    "\n",
    "print(first_5_fibonacci)\n"
   ]
  },
  {
   "cell_type": "code",
   "execution_count": 16,
   "id": "0baf3647-4437-436b-b2fc-db7993d3bcc0",
   "metadata": {},
   "outputs": [
    {
     "name": "stdin",
     "output_type": "stream",
     "text": [
      "Enter a elements separated by commas 2,2,4,5,6,7\n"
     ]
    },
    {
     "data": {
      "text/plain": [
       "('2', '2', '4', '5', '6', '7')"
      ]
     },
     "execution_count": 16,
     "metadata": {},
     "output_type": "execute_result"
    }
   ],
   "source": [
    "# 42. Create a tuple from user input.\n",
    "t = input(\"Enter a elements separated by commas\")\n",
    "l1 = t.split(\",\")\n",
    "t1 = tuple(l1)\n",
    "t1"
   ]
  },
  {
   "cell_type": "code",
   "execution_count": 17,
   "id": "ed52e761-7c34-4c96-a71b-14cfefde1881",
   "metadata": {},
   "outputs": [
    {
     "name": "stdout",
     "output_type": "stream",
     "text": [
      "Original Tuple: (1, 2, 3, 4, 5)\n",
      "Swapped Tuple: (1, 4, 3, 2, 5)\n"
     ]
    }
   ],
   "source": [
    "# 43. Swap two elements in a tuple.\n",
    "original_tuple = (1, 2, 3, 4, 5)\n",
    "\n",
    "index1 = 1\n",
    "index2 = 3\n",
    "\n",
    "tuple_list = list(original_tuple)\n",
    "\n",
    "tuple_list[index1], tuple_list[index2] = tuple_list[index2], tuple_list[index1]\n",
    "\n",
    "swapped_tuple = tuple(tuple_list)\n",
    "\n",
    "print(\"Original Tuple:\", original_tuple)\n",
    "print(\"Swapped Tuple:\", swapped_tuple)\n"
   ]
  },
  {
   "cell_type": "code",
   "execution_count": 18,
   "id": "acbb51b0-4816-4b67-92f3-61c639c17c8a",
   "metadata": {},
   "outputs": [
    {
     "name": "stdout",
     "output_type": "stream",
     "text": [
      "Original Tuple: (1, 2, 3, 4, 5)\n",
      "Reversed Tuple: (5, 4, 3, 2, 1)\n"
     ]
    }
   ],
   "source": [
    "# 44. Reverse the elements of a tuple.\n",
    "original_tuple = (1, 2, 3, 4, 5)\n",
    "\n",
    "reversed_tuple = tuple(reversed(original_tuple))\n",
    "\n",
    "print(\"Original Tuple:\", original_tuple)\n",
    "print(\"Reversed Tuple:\", reversed_tuple)\n"
   ]
  },
  {
   "cell_type": "code",
   "execution_count": 19,
   "id": "4ff4a8fa-7075-484f-9305-5da9b4c43a4b",
   "metadata": {},
   "outputs": [
    {
     "name": "stdout",
     "output_type": "stream",
     "text": [
      "(1, 2, 4, 8, 16)\n"
     ]
    }
   ],
   "source": [
    "# 45. Create a tuple of the first `n` powers of 2.\n",
    "def generate_powers_of_2(n):\n",
    "    powers_of_2 = []\n",
    "    for i in range(n):\n",
    "        powers_of_2.append(2 ** i)\n",
    "    return tuple(powers_of_2)\n",
    "\n",
    "first_5_powers = generate_powers_of_2(5)\n",
    "\n",
    "print(first_5_powers)\n"
   ]
  },
  {
   "cell_type": "code",
   "execution_count": 20,
   "id": "20280818-2aa5-4845-a4b8-c5883fa531ac",
   "metadata": {},
   "outputs": [
    {
     "name": "stdout",
     "output_type": "stream",
     "text": [
      "Longest string: elderberry\n"
     ]
    }
   ],
   "source": [
    "# 46. Find the longest string in a tuple of strings.\n",
    "t = (\"apple\", \"banana\", \"cherry\", \"date\", \"elderberry\")\n",
    "\n",
    "longest_string = max(t , key=len)\n",
    "\n",
    "print(\"Longest string:\", longest_string)\n"
   ]
  },
  {
   "cell_type": "code",
   "execution_count": 21,
   "id": "be9aabd0-9baf-4f6e-a8e5-8f9bcf86b806",
   "metadata": {},
   "outputs": [
    {
     "name": "stdout",
     "output_type": "stream",
     "text": [
      "Longest string: date\n"
     ]
    }
   ],
   "source": [
    "# 47. Find the shortest string in a tuple of strings.\n",
    "t = (\"apple\", \"banana\", \"cherry\", \"date\", \"elderberry\")\n",
    "\n",
    "shortest_string = min(t , key=len)\n",
    "\n",
    "print(\"Longest string:\", shortest_string)\n"
   ]
  },
  {
   "cell_type": "code",
   "execution_count": 22,
   "id": "219ecbd1-1401-4dc5-887b-c07aff6be34e",
   "metadata": {},
   "outputs": [
    {
     "name": "stdout",
     "output_type": "stream",
     "text": [
      "(1, 3, 6, 10, 15)\n"
     ]
    }
   ],
   "source": [
    "# 48. Create a tuple of the first `n` triangular numbers.\n",
    "def generate_triangular_numbers(n):\n",
    "    triangular_numbers = []\n",
    "    for i in range(1, n + 1):\n",
    "        triangular_numbers.append(i * (i + 1) // 2)\n",
    "    return tuple(triangular_numbers)\n",
    "\n",
    "first_5_triangular = generate_triangular_numbers(5)\n",
    "\n",
    "print(first_5_triangular)\n"
   ]
  },
  {
   "cell_type": "code",
   "execution_count": 23,
   "id": "80f9849d-c384-4fcc-8356-21db63d56006",
   "metadata": {},
   "outputs": [
    {
     "name": "stdout",
     "output_type": "stream",
     "text": [
      "True\n",
      "False\n"
     ]
    }
   ],
   "source": [
    "# 49. Check if a tuple contains another tuple as a subsequence.\n",
    "\n",
    "def contains_subsequence(tuple1, tuple2):\n",
    "    i, j = 0, 0 \n",
    "    while i < len(tuple1) and j < len(tuple2):\n",
    "        if tuple1[i] == tuple2[j]:\n",
    "            j += 1 \n",
    "        i += 1 \n",
    "    return j == len(tuple2)  \n",
    "\n",
    "# Test cases\n",
    "tuple1 = (1, 2, 3, 4, 5, 6)\n",
    "tuple2 = (2, 4, 6) \n",
    "tuple3 = (3, 6, 7)  \n",
    "\n",
    "print(contains_subsequence(tuple1, tuple2)) \n",
    "print(contains_subsequence(tuple1, tuple3))  \n"
   ]
  },
  {
   "cell_type": "code",
   "execution_count": 24,
   "id": "29b61649-4038-43c7-bc2e-a64d2b310332",
   "metadata": {},
   "outputs": [
    {
     "name": "stdout",
     "output_type": "stream",
     "text": [
      "(0, 1, 0, 1, 0, 1, 0, 1)\n"
     ]
    }
   ],
   "source": [
    "# 50. Create a tuple of alternating 1s and 0s of length `n`.\n",
    "def create_alternating_tuple(n):\n",
    "    alternating_tuple = tuple((i % 2) for i in range(n))\n",
    "    return alternating_tuple\n",
    "\n",
    "n = 8\n",
    "alternating_tuple = create_alternating_tuple(n)\n",
    "\n",
    "print(alternating_tuple)\n"
   ]
  },
  {
   "cell_type": "markdown",
   "id": "a6b4a33b-cf01-44c8-bf8b-e699b3f3271e",
   "metadata": {},
   "source": [
    "Set Based Practice Problem :\n"
   ]
  },
  {
   "cell_type": "code",
   "execution_count": 26,
   "id": "d14a09b2-8993-4266-862f-450bc41fcd07",
   "metadata": {},
   "outputs": [
    {
     "data": {
      "text/plain": [
       "{1, 2, 3, 4, 5}"
      ]
     },
     "execution_count": 26,
     "metadata": {},
     "output_type": "execute_result"
    }
   ],
   "source": [
    "# 1. Create a set with integers from 1 to 5.\n",
    "s = {1,2,3,4,5}\n",
    "s"
   ]
  },
  {
   "cell_type": "code",
   "execution_count": 28,
   "id": "7ef30a27-9af5-4bf8-8fa7-6fdf02462363",
   "metadata": {},
   "outputs": [
    {
     "data": {
      "text/plain": [
       "{1, 2, 3, 4, 5, 6}"
      ]
     },
     "execution_count": 28,
     "metadata": {},
     "output_type": "execute_result"
    }
   ],
   "source": [
    "# 2. Add an element to a set.\n",
    "s = {1,2,3,4,5}\n",
    "s.add(6)\n",
    "s"
   ]
  },
  {
   "cell_type": "code",
   "execution_count": 30,
   "id": "6873018e-e146-41fe-8285-6502f1147081",
   "metadata": {},
   "outputs": [
    {
     "data": {
      "text/plain": [
       "{1, 2, 3, 4, 5}"
      ]
     },
     "execution_count": 30,
     "metadata": {},
     "output_type": "execute_result"
    }
   ],
   "source": [
    "# 3. Remove an element from a set.\n",
    "s = {1,2,3,4,5,6}\n",
    "s.remove(6)\n",
    "s"
   ]
  },
  {
   "cell_type": "code",
   "execution_count": 31,
   "id": "fc8e2792-b56a-4233-8b65-6bad8d83aa8b",
   "metadata": {},
   "outputs": [
    {
     "name": "stdout",
     "output_type": "stream",
     "text": [
      "3 exists in the set.\n"
     ]
    }
   ],
   "source": [
    "# 4. Check if an element exists in a set.\n",
    "s = {1, 2, 3, 4, 5}\n",
    "\n",
    "check = 3\n",
    "\n",
    "if check in s:\n",
    "    print(f\"{check} exists in the set.\")\n",
    "else:\n",
    "    print(f\"{check} does not exist in the set.\")\n"
   ]
  },
  {
   "cell_type": "code",
   "execution_count": 32,
   "id": "4b355345-0c58-442d-9978-0af61226edc5",
   "metadata": {},
   "outputs": [
    {
     "name": "stdout",
     "output_type": "stream",
     "text": [
      "The number of elements in the set are : 6\n"
     ]
    }
   ],
   "source": [
    "# 5. Find the length of a set without using the `len()` function.\n",
    "s = {1,2,3,4,5,6}\n",
    "count = 0\n",
    "for _ in s:\n",
    "    count += 1\n",
    "print(\"The number of elements in the set are :\" , count)    "
   ]
  },
  {
   "cell_type": "code",
   "execution_count": 38,
   "id": "386e1790-155b-40db-a654-22f2b929cb3f",
   "metadata": {},
   "outputs": [],
   "source": [
    "# 6. Clear all elements from a set.\n",
    "s = {1,2,3,4,5,6}\n",
    "a = s.clear()\n",
    "a"
   ]
  },
  {
   "cell_type": "code",
   "execution_count": 41,
   "id": "6e9b64f3-fdbc-434e-87a1-d3c5c2132355",
   "metadata": {},
   "outputs": [
    {
     "data": {
      "text/plain": [
       "{2, 4, 6, 8, 10}"
      ]
     },
     "execution_count": 41,
     "metadata": {},
     "output_type": "execute_result"
    }
   ],
   "source": [
    "# 7. Create a set of even numbers from 1 to 10.\n",
    "s = {x for x in range(1,11) if x%2 == 0}\n",
    "s"
   ]
  },
  {
   "cell_type": "code",
   "execution_count": 42,
   "id": "c3eed816-ba0b-4428-ab5f-2cde82fdd48f",
   "metadata": {},
   "outputs": [
    {
     "data": {
      "text/plain": [
       "{1, 3, 5, 7, 9}"
      ]
     },
     "execution_count": 42,
     "metadata": {},
     "output_type": "execute_result"
    }
   ],
   "source": [
    "# 8. Create a set of odd numbers from 1 to 10.\n",
    "s = {x for x in range(1,11) if x%2 != 0}\n",
    "s\n"
   ]
  },
  {
   "cell_type": "code",
   "execution_count": 43,
   "id": "09be762e-efb2-46d4-a12e-bc753d42101f",
   "metadata": {},
   "outputs": [
    {
     "data": {
      "text/plain": [
       "{1, 2, 3, 4, 5, 6, 7, 8}"
      ]
     },
     "execution_count": 43,
     "metadata": {},
     "output_type": "execute_result"
    }
   ],
   "source": [
    "# 9. Find the union of two sets.\n",
    "s1 = {1,2,3,4,5}\n",
    "s2 = {4,5,6,7,8}\n",
    "union = (s1.union(s2))\n",
    "union"
   ]
  },
  {
   "cell_type": "code",
   "execution_count": 44,
   "id": "8fe0274a-7aa9-47e0-b121-37735e59b5b3",
   "metadata": {},
   "outputs": [
    {
     "data": {
      "text/plain": [
       "{4, 5}"
      ]
     },
     "execution_count": 44,
     "metadata": {},
     "output_type": "execute_result"
    }
   ],
   "source": [
    "# 10. Find the intersection of two sets.\n",
    "s1 = {1,2,3,4,5}\n",
    "s2 = {4,5,6,7,8}\n",
    "union = (s1.intersection(s2))\n",
    "union\n"
   ]
  },
  {
   "cell_type": "code",
   "execution_count": 45,
   "id": "f6d14208-5c0e-494f-a83c-3f781b2e0c4a",
   "metadata": {},
   "outputs": [
    {
     "data": {
      "text/plain": [
       "{1, 2, 3}"
      ]
     },
     "execution_count": 45,
     "metadata": {},
     "output_type": "execute_result"
    }
   ],
   "source": [
    "# 11. Find the difference between two sets.\n",
    "s1 = {1,2,3,4,5}\n",
    "s2 = {4,5,6,7,8}\n",
    "differ = (s1.difference(s2))\n",
    "differ"
   ]
  },
  {
   "cell_type": "code",
   "execution_count": 46,
   "id": "d130f086-7b8d-4ab5-81c5-7f8921b666cb",
   "metadata": {},
   "outputs": [
    {
     "name": "stdout",
     "output_type": "stream",
     "text": [
      "set1 is a subset of set2.\n"
     ]
    }
   ],
   "source": [
    "# 12. Check if a set is a subset of another set.\n",
    "s1 = {1, 2, 3}\n",
    "s2 = {1, 2, 3, 4, 5}\n",
    "\n",
    "is_subset = s1.issubset(s2)\n",
    "\n",
    "if is_subset:\n",
    "    print(\"set1 is a subset of set2.\")\n",
    "else:\n",
    "    print(\"set1 is not a subset of set2.\")\n"
   ]
  },
  {
   "cell_type": "code",
   "execution_count": 47,
   "id": "3f29e150-12db-456c-b68b-e2522a34a94e",
   "metadata": {},
   "outputs": [
    {
     "name": "stdout",
     "output_type": "stream",
     "text": [
      "set1 is not a superset of set2.\n"
     ]
    }
   ],
   "source": [
    "# 13. Check if a set is a superset of another set.\n",
    "s1 = {1, 2, 3}\n",
    "s2 = {1, 2, 3, 4, 5}\n",
    "\n",
    "is_superset = s1.issuperset(s2)\n",
    "\n",
    "if is_superset:\n",
    "    print(\"set1 is a superset of set2.\")\n",
    "else:\n",
    "    print(\"set1 is not a superset of set2.\")\n",
    "\n"
   ]
  },
  {
   "cell_type": "code",
   "execution_count": 50,
   "id": "15bb7182-a907-4627-9adf-b8111f59ffae",
   "metadata": {},
   "outputs": [
    {
     "data": {
      "text/plain": [
       "{1, 2, 3, 4, 5}"
      ]
     },
     "execution_count": 50,
     "metadata": {},
     "output_type": "execute_result"
    }
   ],
   "source": [
    "# 14. Create a set from a list.\n",
    "l = [1,2,3,4,5]\n",
    "b = set(l)\n",
    "b"
   ]
  },
  {
   "cell_type": "code",
   "execution_count": 51,
   "id": "b7239732-fc4a-4bcc-ad89-eaad5b4fe6dc",
   "metadata": {},
   "outputs": [
    {
     "data": {
      "text/plain": [
       "[1, 2, 3, 4, 5]"
      ]
     },
     "execution_count": 51,
     "metadata": {},
     "output_type": "execute_result"
    }
   ],
   "source": [
    "# 15. Convert a set to a list.\n",
    "s = {1,2,3,4,5}\n",
    "l = list(s)\n",
    "l"
   ]
  },
  {
   "cell_type": "code",
   "execution_count": 52,
   "id": "f7f8c535-80be-4441-b20d-9cd6038755f9",
   "metadata": {},
   "outputs": [
    {
     "name": "stdout",
     "output_type": "stream",
     "text": [
      "Removed element: 1\n",
      "Updated set: {2, 3, 4, 5}\n"
     ]
    }
   ],
   "source": [
    "# 16. Remove a random element from a set.\n",
    "s = {1, 2, 3, 4, 5}\n",
    "\n",
    "remove = s.pop()\n",
    "\n",
    "print(\"Removed element:\", remove)\n",
    "print(\"Updated set:\", s)\n"
   ]
  },
  {
   "cell_type": "code",
   "execution_count": 53,
   "id": "826d6481-c5f9-4525-88e4-4937e77fdbb5",
   "metadata": {},
   "outputs": [
    {
     "name": "stdout",
     "output_type": "stream",
     "text": [
      "popped element: 1\n",
      "Updated set: {2, 3, 4, 5}\n"
     ]
    }
   ],
   "source": [
    "# 17. Pop an element from a set.\n",
    "s = {1, 2, 3, 4, 5}\n",
    "\n",
    "pop = s.pop()\n",
    "\n",
    "print(\"popped element:\", pop)\n",
    "print(\"Updated set:\", s)\n"
   ]
  },
  {
   "cell_type": "code",
   "execution_count": 54,
   "id": "815f4bf0-ff27-48a5-abf3-3bcdbb21320d",
   "metadata": {},
   "outputs": [
    {
     "name": "stdout",
     "output_type": "stream",
     "text": [
      "The sets have no elements in common.\n"
     ]
    }
   ],
   "source": [
    "# 18. Check if two sets have no elements in common.\n",
    "set1 = {1, 2, 3}\n",
    "set2 = {4, 5, 6}\n",
    "\n",
    "a = set1.isdisjoint(set2)\n",
    "\n",
    "if a:\n",
    "    print(\"The sets have no elements in common.\")\n",
    "else:\n",
    "    print(\"The sets have at least one element in common.\")\n"
   ]
  },
  {
   "cell_type": "code",
   "execution_count": 55,
   "id": "f345ae21-33bd-4de0-a9e9-8667e0037c31",
   "metadata": {},
   "outputs": [
    {
     "data": {
      "text/plain": [
       "{1, 2, 3, 4, 5, 6}"
      ]
     },
     "execution_count": 55,
     "metadata": {},
     "output_type": "execute_result"
    }
   ],
   "source": [
    "# 19. Find the symmetric difference between two sets.\n",
    "set1 = {1, 2, 3}\n",
    "set2 = {4, 5, 6}\n",
    "\n",
    "a = set1.symmetric_difference(set2)\n",
    "a\n"
   ]
  },
  {
   "cell_type": "code",
   "execution_count": 56,
   "id": "e55c0472-c0bc-448f-af2b-7553c09f73d1",
   "metadata": {},
   "outputs": [
    {
     "name": "stdout",
     "output_type": "stream",
     "text": [
      "Updated set1: {1, 2, 3, 4, 5}\n"
     ]
    }
   ],
   "source": [
    "# 20. Update a set with elements from another set.\n",
    "s1 = {1, 2, 3}\n",
    "s2 = {3, 4, 5}\n",
    "s1.update(s2)\n",
    "\n",
    "print(\"Updated set1:\", s1)\n"
   ]
  },
  {
   "cell_type": "code",
   "execution_count": 57,
   "id": "83a4094e-6504-499a-894a-faa1dc89ea9c",
   "metadata": {},
   "outputs": [
    {
     "name": "stdout",
     "output_type": "stream",
     "text": [
      "Set of the first 5 prime numbers: {2, 3, 5, 7, 11}\n"
     ]
    }
   ],
   "source": [
    "# 21. Create a set of the first 5 prime numbers.\n",
    "def is_prime(num):\n",
    "    if num <= 1:\n",
    "        return False\n",
    "    if num == 2:\n",
    "        return True\n",
    "    if num % 2 == 0:\n",
    "        return False\n",
    "    for i in range(3, int(num**0.5) + 1, 2):\n",
    "        if num % i == 0:\n",
    "            return False\n",
    "    return True\n",
    "\n",
    "prime_set = set()\n",
    "num = 2 \n",
    "while len(prime_set) < 5:\n",
    "    if is_prime(num):\n",
    "        prime_set.add(num)\n",
    "    num += 1\n",
    "\n",
    "print(\"Set of the first 5 prime numbers:\", prime_set)\n"
   ]
  },
  {
   "cell_type": "code",
   "execution_count": 59,
   "id": "66506e00-b974-4a9b-a1f4-b7c7e4a0e891",
   "metadata": {},
   "outputs": [
    {
     "name": "stdout",
     "output_type": "stream",
     "text": [
      "They are identical sets\n"
     ]
    }
   ],
   "source": [
    "# 22. Check if two sets are identical.\n",
    "s1 = {1,2,3}\n",
    "s2 = {1,2,3}\n",
    "if s1 == s2 :\n",
    "    print(\"They are identical sets\")\n",
    "else:\n",
    "    print(\"They are not identical sets\")"
   ]
  },
  {
   "cell_type": "code",
   "execution_count": 60,
   "id": "4fa86ee5-6ef5-406b-b99d-56c7d9b76201",
   "metadata": {},
   "outputs": [
    {
     "data": {
      "text/plain": [
       "frozenset({1, 2, 3, 4, 5})"
      ]
     },
     "execution_count": 60,
     "metadata": {},
     "output_type": "execute_result"
    }
   ],
   "source": [
    "# 23. Create a frozen set.\n",
    "s = {1,2,3,4,5}\n",
    "a = frozenset(s)\n",
    "a"
   ]
  },
  {
   "cell_type": "code",
   "execution_count": 61,
   "id": "6038e54d-4820-48ef-8fd8-d42f4b5619ef",
   "metadata": {},
   "outputs": [
    {
     "name": "stdout",
     "output_type": "stream",
     "text": [
      "The sets are disjoint (have no elements in common).\n"
     ]
    }
   ],
   "source": [
    "# 24. Check if a set is disjoint with another set.\n",
    "s1 = {1, 2, 3}\n",
    "s2 = {4, 5, 6}\n",
    "\n",
    "are_disjoint = s1.isdisjoint(s2)\n",
    "\n",
    "if are_disjoint:\n",
    "    print(\"The sets are disjoint (have no elements in common).\")\n",
    "else:\n",
    "    print(\"The sets are not disjoint (have elements in common).\")\n"
   ]
  },
  {
   "cell_type": "code",
   "execution_count": 63,
   "id": "bd5e2d80-298c-44ca-a0cd-d34278ae7411",
   "metadata": {},
   "outputs": [
    {
     "data": {
      "text/plain": [
       "{1, 4, 9, 16, 25}"
      ]
     },
     "execution_count": 63,
     "metadata": {},
     "output_type": "execute_result"
    }
   ],
   "source": [
    "# 25. Create a set of squares of numbers from 1 to 5.\n",
    "s = {x**2 for x in range(1,6) }\n",
    "s"
   ]
  },
  {
   "cell_type": "code",
   "execution_count": 64,
   "id": "efdc49dd-84c5-4c8d-9b02-a658e6bdf2f2",
   "metadata": {},
   "outputs": [
    {
     "name": "stdout",
     "output_type": "stream",
     "text": [
      "Original set: {1, 2, 3, 4, 5, 6, 7, 8, 9, 10}\n",
      "Filtered set (odd numbers only): {1, 3, 5, 7, 9}\n"
     ]
    }
   ],
   "source": [
    "# 26. Filter out all even numbers from a set.\n",
    "s = {1, 2, 3, 4, 5, 6, 7, 8, 9, 10}\n",
    "\n",
    "filtered_set = {x for x in s if x % 2 != 0}\n",
    "\n",
    "print(\"Original set:\", s)\n",
    "print(\"Filtered set (odd numbers only):\", filtered_set)\n"
   ]
  },
  {
   "cell_type": "code",
   "execution_count": 66,
   "id": "9a0f1c22-266b-4eb7-9bf8-0c025962099e",
   "metadata": {},
   "outputs": [
    {
     "data": {
      "text/plain": [
       "{2, 4, 6, 8, 10}"
      ]
     },
     "execution_count": 66,
     "metadata": {},
     "output_type": "execute_result"
    }
   ],
   "source": [
    "# 27. Multiply all elements in a set by 2.\n",
    "s = {1,2,3,4,5}\n",
    "s1 = {x*2 for x in s}\n",
    "s1"
   ]
  },
  {
   "cell_type": "code",
   "execution_count": 67,
   "id": "6e5a6dfe-2c28-43e9-ad34-f89611cf301f",
   "metadata": {},
   "outputs": [
    {
     "name": "stdout",
     "output_type": "stream",
     "text": [
      "Random Number Set: {5, 11, 43, 78, 81, 49, 21, 22, 92}\n"
     ]
    }
   ],
   "source": [
    "# 28. Create a set of random numbers.\n",
    "import random\n",
    "random_number_set = set()\n",
    "\n",
    "for _ in range(10):  \n",
    "    random_number = random.randint(1, 100)  \n",
    "    random_number_set.add(random_number)\n",
    "\n",
    "print(\"Random Number Set:\", random_number_set)\n"
   ]
  },
  {
   "cell_type": "code",
   "execution_count": 68,
   "id": "eca50df4-1e58-419b-a45a-8b116d8863d3",
   "metadata": {},
   "outputs": [
    {
     "name": "stdout",
     "output_type": "stream",
     "text": [
      "The set is empty.\n"
     ]
    }
   ],
   "source": [
    "# 29. Check if a set is empty.\n",
    "s = set()\n",
    "\n",
    "if not s:\n",
    "    print(\"The set is empty.\")\n",
    "else:\n",
    "    print(\"The set is not empty.\")\n"
   ]
  },
  {
   "cell_type": "code",
   "execution_count": 69,
   "id": "57a934a6-a665-45f6-8689-a7e7ca7b5d31",
   "metadata": {},
   "outputs": [
    {
     "name": "stdout",
     "output_type": "stream",
     "text": [
      "Nested Set: {frozenset({1, 2, 3}), frozenset({4, 5, 6}), frozenset({8, 9, 7})}\n"
     ]
    }
   ],
   "source": [
    "# 30. Create a nested set (hint: use frozenset).\n",
    "nested_set = {\n",
    "    frozenset({1, 2, 3}),\n",
    "    frozenset({4, 5, 6}),\n",
    "    frozenset({7, 8, 9})\n",
    "}\n",
    "\n",
    "print(\"Nested Set:\", nested_set)\n"
   ]
  },
  {
   "cell_type": "code",
   "execution_count": 72,
   "id": "a1261a7e-ba81-4cd3-8b0e-72cef152909b",
   "metadata": {},
   "outputs": [
    {
     "name": "stdout",
     "output_type": "stream",
     "text": [
      "Updated set: {1, 2, 4, 5}\n"
     ]
    }
   ],
   "source": [
    "# 31. Remove an element from a set using the discard method.\n",
    "s = {1, 2, 3, 4, 5}\n",
    "s.discard(3)  \n",
    "print(\"Updated set:\", s)\n"
   ]
  },
  {
   "cell_type": "code",
   "execution_count": 73,
   "id": "561bc6d9-b814-4874-acfe-7767963e1ffd",
   "metadata": {},
   "outputs": [
    {
     "name": "stdout",
     "output_type": "stream",
     "text": [
      "Are sets equal? False\n",
      "Is set1 a subset of set2? False\n",
      "Intersection of sets: {3, 4, 5}\n",
      "Union of sets: {1, 2, 3, 4, 5, 6, 7}\n"
     ]
    }
   ],
   "source": [
    "# 32. Compare two sets.\n",
    "# Create two sets\n",
    "set1 = {1, 2, 3, 4, 5}\n",
    "set2 = {3, 4, 5, 6, 7}\n",
    "\n",
    "are_equal = set1 == set2\n",
    "\n",
    "is_subset = set1 <= set2\n",
    "\n",
    "intersection = set1 & set2\n",
    "\n",
    "union = set1 | set2\n",
    "\n",
    "#\n",
    "print(\"Are sets equal?\", are_equal)\n",
    "print(\"Is set1 a subset of set2?\", is_subset)\n",
    "print(\"Intersection of sets:\", intersection)\n",
    "print(\"Union of sets:\", union)\n"
   ]
  },
  {
   "cell_type": "code",
   "execution_count": 74,
   "id": "b64ce892-e811-4604-a047-0f9f292c5089",
   "metadata": {},
   "outputs": [
    {
     "data": {
      "text/plain": [
       "{'a', 'e', 'l', 'p'}"
      ]
     },
     "execution_count": 74,
     "metadata": {},
     "output_type": "execute_result"
    }
   ],
   "source": [
    "# 33. Create a set from a string.\n",
    "s = \"apple\"\n",
    "s1 = set(s)\n",
    "s1"
   ]
  },
  {
   "cell_type": "code",
   "execution_count": 77,
   "id": "59f0cbd9-a9b3-4394-8a5d-7cc7be100aa4",
   "metadata": {},
   "outputs": [
    {
     "data": {
      "text/plain": [
       "{1, 2, 3, 4}"
      ]
     },
     "execution_count": 77,
     "metadata": {},
     "output_type": "execute_result"
    }
   ],
   "source": [
    "# 34. Convert a set of strings to a set of integers.\n",
    "s = {'1' , '2' , '3' , '4'}\n",
    "s1 = {int(x) for x in s}\n",
    "s1"
   ]
  },
  {
   "cell_type": "code",
   "execution_count": 78,
   "id": "cc0ad83c-e2b3-4d6d-9cf8-0c1f68851440",
   "metadata": {},
   "outputs": [
    {
     "data": {
      "text/plain": [
       "{'1', '2', '3', '4', '5'}"
      ]
     },
     "execution_count": 78,
     "metadata": {},
     "output_type": "execute_result"
    }
   ],
   "source": [
    "# 35. Convert a set of integers to a set of strings.\n",
    "s = {1,2,3,4,5}\n",
    "s1 = {str(x) for x in s}\n",
    "s1"
   ]
  },
  {
   "cell_type": "code",
   "execution_count": 79,
   "id": "7109da66-76b9-4dea-9708-aa62163ed4ef",
   "metadata": {},
   "outputs": [
    {
     "data": {
      "text/plain": [
       "{1, 2, 3, 4, 5}"
      ]
     },
     "execution_count": 79,
     "metadata": {},
     "output_type": "execute_result"
    }
   ],
   "source": [
    "# 36. Create a set from a tuple.\n",
    "t = (1,2,3,4,5)\n",
    "s = set(t)\n",
    "s"
   ]
  },
  {
   "cell_type": "code",
   "execution_count": 80,
   "id": "29644ca8-2db1-48fe-9285-7b3889ad9570",
   "metadata": {},
   "outputs": [
    {
     "data": {
      "text/plain": [
       "(1, 2, 3, 4, 5)"
      ]
     },
     "execution_count": 80,
     "metadata": {},
     "output_type": "execute_result"
    }
   ],
   "source": [
    "# 37. Convert a set to a tuple.\n",
    "s = {1,2,3,4,5}\n",
    "t = tuple(s)\n",
    "t"
   ]
  },
  {
   "cell_type": "code",
   "execution_count": 81,
   "id": "c10f57d7-3770-4ebf-902c-57de8fb111f7",
   "metadata": {},
   "outputs": [
    {
     "data": {
      "text/plain": [
       "5"
      ]
     },
     "execution_count": 81,
     "metadata": {},
     "output_type": "execute_result"
    }
   ],
   "source": [
    "# 38. Find the maximum value in a set.\n",
    "s = {1,2,3,4,5}\n",
    "maximum = max(s)\n",
    "maximum"
   ]
  },
  {
   "cell_type": "code",
   "execution_count": 82,
   "id": "00c0911d-fece-4f07-8d1d-f4c73c4f64f3",
   "metadata": {},
   "outputs": [
    {
     "data": {
      "text/plain": [
       "1"
      ]
     },
     "execution_count": 82,
     "metadata": {},
     "output_type": "execute_result"
    }
   ],
   "source": [
    "# 39. Find the minimum value in a set.\n",
    "s = {1,2,3,4,5}\n",
    "minimum = min(s)\n",
    "minimum"
   ]
  },
  {
   "cell_type": "code",
   "execution_count": 85,
   "id": "e501dee2-8c5d-4b97-b951-640bc014f2e7",
   "metadata": {},
   "outputs": [
    {
     "name": "stdin",
     "output_type": "stream",
     "text": [
      "Enter an element (or 'q' to quit):  1\n",
      "Enter an element (or 'q' to quit):  2\n",
      "Enter an element (or 'q' to quit):  3\n",
      "Enter an element (or 'q' to quit):  q\n"
     ]
    },
    {
     "name": "stdout",
     "output_type": "stream",
     "text": [
      "Final Set: {1, 2, 3}\n"
     ]
    }
   ],
   "source": [
    "# 40# Initialize an empty set\n",
    "my_set = set()\n",
    "\n",
    "while True:\n",
    "    user_input = input(\"Enter an element (or 'q' to quit): \")\n",
    "\n",
    "    if user_input.lower() == 'q':\n",
    "        break\n",
    "\n",
    "    try:\n",
    "        element = int(user_input)\n",
    "\n",
    "        my_set.add(element)\n",
    "    except ValueError:\n",
    "        print(\"Invalid input. Please enter a valid integer.\")\n",
    "\n",
    "print(\"Final Set:\", my_set)\n",
    "\n"
   ]
  },
  {
   "cell_type": "code",
   "execution_count": 86,
   "id": "f90fbd10-581b-4681-b686-4f99ded8f91b",
   "metadata": {},
   "outputs": [
    {
     "name": "stdout",
     "output_type": "stream",
     "text": [
      "The intersection of the sets is empty.\n"
     ]
    }
   ],
   "source": [
    "# 41. Check if the intersection of two sets is empty.\n",
    "s1 = {1, 2, 3}\n",
    "s2 = {4, 5, 6}\n",
    "\n",
    "intersection_empty = s1.isdisjoint(s2)\n",
    "\n",
    "if intersection_empty:\n",
    "    print(\"The intersection of the sets is empty.\")\n",
    "else:\n",
    "    print(\"The intersection of the sets is not empty.\")\n"
   ]
  },
  {
   "cell_type": "code",
   "execution_count": 87,
   "id": "44d01891-a2c0-4d17-8716-e14c39c77d76",
   "metadata": {},
   "outputs": [
    {
     "name": "stdout",
     "output_type": "stream",
     "text": [
      "Set of the first 5 Fibonacci numbers: {0, 1, 2, 3}\n"
     ]
    }
   ],
   "source": [
    "# 42. Create a set of the first 5 Fibonacci numbers.\n",
    "fibonacci_set = set()\n",
    "a, b = 0, 1\n",
    "for _ in range(5): \n",
    "    fibonacci_set.add(a)\n",
    "    a, b = b, a + b\n",
    "\n",
    "print(\"Set of the first 5 Fibonacci numbers:\", fibonacci_set)\n"
   ]
  },
  {
   "cell_type": "code",
   "execution_count": 88,
   "id": "34aaff90-3d49-4e8f-8e3f-4f013a507515",
   "metadata": {},
   "outputs": [
    {
     "name": "stdout",
     "output_type": "stream",
     "text": [
      "Original list: [1, 2, 2, 3, 4, 4, 5]\n",
      "List without duplicates: [1, 2, 3, 4, 5]\n"
     ]
    }
   ],
   "source": [
    "# 43. Remove duplicates from a list using sets.\n",
    "my_list = [1, 2, 2, 3, 4, 4, 5]\n",
    "my_list_without_duplicates = list(set(my_list))\n",
    "\n",
    "print(\"Original list:\", my_list)\n",
    "print(\"List without duplicates:\", my_list_without_duplicates)\n"
   ]
  },
  {
   "cell_type": "code",
   "execution_count": 89,
   "id": "6998e422-b46f-4591-a9b7-bcd6477e796a",
   "metadata": {},
   "outputs": [
    {
     "name": "stdout",
     "output_type": "stream",
     "text": [
      "The sets are equivalent (have the same elements).\n"
     ]
    }
   ],
   "source": [
    "# 44. Check if two sets have the same elements, regardless of their count.\n",
    "s1 = {1, 2, 3}\n",
    "s2 = {3, 2, 1}\n",
    "\n",
    "are_equivalent = s1 == s2\n",
    "\n",
    "if are_equivalent:\n",
    "    print(\"The sets are equivalent (have the same elements).\")\n",
    "else:\n",
    "    print(\"The sets are not equivalent (have different elements).\")\n"
   ]
  },
  {
   "cell_type": "code",
   "execution_count": 90,
   "id": "d210fd39-152d-4192-b5e1-9df83ca97f70",
   "metadata": {},
   "outputs": [
    {
     "name": "stdout",
     "output_type": "stream",
     "text": [
      "Set of the first 5 powers of 2: {1, 2, 4, 8, 16}\n"
     ]
    }
   ],
   "source": [
    "# 45. Create a set of the first `n` powers of 2.\n",
    "def generate_powers_of_2(n):\n",
    "    powers_of_2_set = set()\n",
    "    for i in range(n):\n",
    "        powers_of_2_set.add(2 ** i)\n",
    "    return powers_of_2_set\n",
    "\n",
    "n = 5  \n",
    "powers_of_2_set = generate_powers_of_2(n)\n",
    "\n",
    "print(f\"Set of the first {n} powers of 2:\", powers_of_2_set)\n"
   ]
  },
  {
   "cell_type": "code",
   "execution_count": 91,
   "id": "b0689fa0-c6dc-4598-aaf3-0afb39278495",
   "metadata": {},
   "outputs": [
    {
     "name": "stdout",
     "output_type": "stream",
     "text": [
      "Set: {1, 2, 3, 4, 5}\n",
      "List: [3, 4, 5, 6, 7]\n",
      "Common Elements: {3, 4, 5}\n"
     ]
    }
   ],
   "source": [
    "# 46. Find the common elements between a set and a list.\n",
    "s = {1, 2, 3, 4, 5}\n",
    "l = [3, 4, 5, 6, 7]\n",
    "\n",
    "common_elements = s.intersection(l)\n",
    "\n",
    "print(\"Set:\", s)\n",
    "print(\"List:\", l)\n",
    "print(\"Common Elements:\", common_elements)\n"
   ]
  },
  {
   "cell_type": "code",
   "execution_count": 92,
   "id": "b0afb27b-dddf-45d2-9506-b7af0d51eb3c",
   "metadata": {},
   "outputs": [
    {
     "name": "stdout",
     "output_type": "stream",
     "text": [
      "Set of the first 5 triangular numbers: {1, 3, 6, 10, 15}\n"
     ]
    }
   ],
   "source": [
    "# 47. Create a set of the first `n` triangular numbers.\n",
    "def generate_triangular_numbers(n):\n",
    "    triangular_numbers_set = set()\n",
    "    for i in range(1, n + 1):\n",
    "        triangular_number = i * (i + 1) // 2\n",
    "        triangular_numbers_set.add(triangular_number)\n",
    "    return triangular_numbers_set\n",
    "\n",
    "n = 5 \n",
    "triangular_numbers_set = generate_triangular_numbers(n)\n",
    "\n",
    "print(f\"Set of the first {n} triangular numbers:\", triangular_numbers_set)\n"
   ]
  },
  {
   "cell_type": "code",
   "execution_count": 93,
   "id": "b0efb0be-079c-49b6-be86-b2a14d5fea57",
   "metadata": {},
   "outputs": [
    {
     "name": "stdout",
     "output_type": "stream",
     "text": [
      "set2 is a subset of set1.\n"
     ]
    }
   ],
   "source": [
    "# 48. Check if a set contains another set as a subset.\n",
    "s1 = {1, 2, 3, 4, 5}\n",
    "s2 = {2, 3}\n",
    "\n",
    "is_subset = s2.issubset(s1)\n",
    "\n",
    "if is_subset:\n",
    "    print(\"set2 is a subset of set1.\")\n",
    "else:\n",
    "    print(\"set2 is not a subset of set1.\")\n"
   ]
  },
  {
   "cell_type": "code",
   "execution_count": 94,
   "id": "dc24cc91-a7e4-4a8b-9dc8-7e866480a7c7",
   "metadata": {},
   "outputs": [
    {
     "name": "stdout",
     "output_type": "stream",
     "text": [
      "Set of alternating 1s and 0s of length 7: {0, 1}\n"
     ]
    }
   ],
   "source": [
    "# 49. Create a set of alternating 1s and 0s of length `n`.\n",
    "def generate_alternating_set(n):\n",
    "    alternating_set = set()\n",
    "    for i in range(n):\n",
    "        alternating_set.add(i % 2)\n",
    "    return alternating_set\n",
    "\n",
    "n = 7 \n",
    "\n",
    "alternating_set = generate_alternating_set(n)\n",
    "\n",
    "print(f\"Set of alternating 1s and 0s of length {n}:\", alternating_set)\n"
   ]
  },
  {
   "cell_type": "code",
   "execution_count": 95,
   "id": "90bf3d9a-876a-4cd8-bddb-fd32e3847205",
   "metadata": {},
   "outputs": [
    {
     "name": "stdout",
     "output_type": "stream",
     "text": [
      "Merged Set: {1, 2, 3, 4, 5, 6, 7}\n"
     ]
    }
   ],
   "source": [
    "# 50. Merge multiple sets into one.\n",
    "s1 = {1, 2, 3}\n",
    "s2 = {3, 4, 5}\n",
    "s3 = {5, 6, 7}\n",
    "\n",
    "merged_set = s1.union(s2, s3)\n",
    "\n",
    "print(\"Merged Set:\", merged_set)\n"
   ]
  },
  {
   "cell_type": "code",
   "execution_count": null,
   "id": "1329087f-fea1-4b6b-9b24-b4c64ecb6138",
   "metadata": {},
   "outputs": [],
   "source": []
  }
 ],
 "metadata": {
  "kernelspec": {
   "display_name": "Python 3 (ipykernel)",
   "language": "python",
   "name": "python3"
  },
  "language_info": {
   "codemirror_mode": {
    "name": "ipython",
    "version": 3
   },
   "file_extension": ".py",
   "mimetype": "text/x-python",
   "name": "python",
   "nbconvert_exporter": "python",
   "pygments_lexer": "ipython3",
   "version": "3.10.8"
  }
 },
 "nbformat": 4,
 "nbformat_minor": 5
}
